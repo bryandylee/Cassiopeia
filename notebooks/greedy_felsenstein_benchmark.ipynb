{
 "cells": [
  {
   "cell_type": "markdown",
   "metadata": {},
   "source": [
    "# Greedy Algorithm Benchmarking\n",
    "\n",
    "This notebook serves to benchmark VanillaGreedySolver and our own made solver utilizing various greedy algorithms and Felsenstein's algorithm with bagging. However, it will also work with preexisting solvers as well.\n",
    "\n",
    "You can install Cassiopeia by following the guide [here](https://cassiopeia-lineage.readthedocs.io/en/latest/installation.html).\n",
    "\n",
    "All of our documentation is hosted [here](https://cassiopeia-lineage.readthedocs.io/en/latest/)."
   ]
  },
  {
   "cell_type": "code",
   "execution_count": 1,
   "metadata": {},
   "outputs": [],
   "source": [
    "from collections import defaultdict\n",
    "import matplotlib.pyplot as plt\n",
    "import numpy as np\n",
    "import pandas as pd\n",
    "import seaborn as sns\n",
    "from tqdm.auto import tqdm\n",
    "\n",
    "import cassiopeia as cas"
   ]
  },
  {
   "cell_type": "markdown",
   "metadata": {},
   "source": [
    "## Building benchmarking pipeline\n",
    "\n",
    "The benchmarking pipeline consists of:\n",
    "\n",
    "1. Simulating a ground truth phylogeny\n",
    "2. Overlaying data onto this phylogeny\n",
    "3. Inferring the phylogeny with potentially many algorithms\n",
    "4. Assessing performance"
   ]
  },
  {
   "cell_type": "markdown",
   "metadata": {},
   "source": [
    "Setting up necessary variables\n",
    "- `algorithm` = The algorithms we will compare\n",
    "- `bd_sim` = Simulates a birth-death process for creating a ground truth tree\n",
    "- `lt_sim` = Uses a Cas9-based lineage tracing data simulator for overlaying data"
   ]
  },
  {
   "cell_type": "code",
   "execution_count": 2,
   "metadata": {},
   "outputs": [],
   "source": [
    "algorithms = {\n",
    "    \"Vanilla Greedy\": cas.solver.VanillaGreedySolver(),\n",
    "    \"Felsenstein Greedy\": cas.solver.FelsensteinGreedySolver(),\n",
    "    # can add more algorithms here\n",
    "}\n",
    "\n",
    "bd_sim = cas.sim.BirthDeathFitnessSimulator(\n",
    "    birth_waiting_distribution=lambda scale: np.random.exponential(scale),\n",
    "    initial_birth_scale=0.5,\n",
    "    death_waiting_distribution=lambda: np.random.exponential(1.5),\n",
    "    mutation_distribution=lambda: 1 if np.random.uniform() < 0.5 else 0,\n",
    "    fitness_distribution=lambda: np.random.normal(0, 0.5),\n",
    "    fitness_base=1.3,\n",
    "    num_extant=400,\n",
    "    random_seed=17,\n",
    ")\n",
    "\n",
    "np.random.seed(seed=None)\n",
    "lt_sim = cas.sim.Cas9LineageTracingDataSimulator(\n",
    "    number_of_cassettes=40,\n",
    "    size_of_cassette=1,\n",
    "    mutation_rate=0.1,\n",
    "    state_generating_distribution=lambda: np.random.exponential(1e-5),\n",
    "    number_of_states=50,\n",
    "    state_priors=None,\n",
    "    heritable_silencing_rate=9e-4,\n",
    "    stochastic_silencing_rate=0.1,\n",
    "    heritable_missing_data_state=-1,\n",
    "    stochastic_missing_data_state=-1,\n",
    ")"
   ]
  },
  {
   "cell_type": "code",
   "execution_count": 3,
   "metadata": {},
   "outputs": [
    {
     "data": {
      "application/vnd.jupyter.widget-view+json": {
       "model_id": "34d95fb140bf4708878ef4dd0ac89c0a",
       "version_major": 2,
       "version_minor": 0
      },
      "text/plain": [
       "  0%|          | 0/10 [00:00<?, ?it/s]"
      ]
     },
     "metadata": {},
     "output_type": "display_data"
    },
    {
     "data": {
      "application/vnd.jupyter.widget-view+json": {
       "model_id": "4b22df54e2164ad9818381490c3fc58b",
       "version_major": 2,
       "version_minor": 0
      },
      "text/plain": [
       "  0%|          | 0/2 [00:00<?, ?it/s]"
      ]
     },
     "metadata": {},
     "output_type": "display_data"
    },
    {
     "data": {
      "application/vnd.jupyter.widget-view+json": {
       "model_id": "bda776106980438ba32770c94eac326a",
       "version_major": 2,
       "version_minor": 0
      },
      "text/plain": [
       "  0%|          | 0/2 [00:00<?, ?it/s]"
      ]
     },
     "metadata": {},
     "output_type": "display_data"
    },
    {
     "data": {
      "application/vnd.jupyter.widget-view+json": {
       "model_id": "e276bd3328474646bcb8e78d8d37af0c",
       "version_major": 2,
       "version_minor": 0
      },
      "text/plain": [
       "  0%|          | 0/2 [00:00<?, ?it/s]"
      ]
     },
     "metadata": {},
     "output_type": "display_data"
    },
    {
     "data": {
      "application/vnd.jupyter.widget-view+json": {
       "model_id": "cdbc92c6f59344e09227085d33982fb3",
       "version_major": 2,
       "version_minor": 0
      },
      "text/plain": [
       "  0%|          | 0/2 [00:00<?, ?it/s]"
      ]
     },
     "metadata": {},
     "output_type": "display_data"
    },
    {
     "data": {
      "application/vnd.jupyter.widget-view+json": {
       "model_id": "ff78ea247cca4acc9e4004f705fb29d5",
       "version_major": 2,
       "version_minor": 0
      },
      "text/plain": [
       "  0%|          | 0/2 [00:00<?, ?it/s]"
      ]
     },
     "metadata": {},
     "output_type": "display_data"
    },
    {
     "data": {
      "application/vnd.jupyter.widget-view+json": {
       "model_id": "6a8d0a56bf2c4de583f361dadf44f936",
       "version_major": 2,
       "version_minor": 0
      },
      "text/plain": [
       "  0%|          | 0/2 [00:00<?, ?it/s]"
      ]
     },
     "metadata": {},
     "output_type": "display_data"
    },
    {
     "data": {
      "application/vnd.jupyter.widget-view+json": {
       "model_id": "f8e7fb7d0022429ea0434ae211347875",
       "version_major": 2,
       "version_minor": 0
      },
      "text/plain": [
       "  0%|          | 0/2 [00:00<?, ?it/s]"
      ]
     },
     "metadata": {},
     "output_type": "display_data"
    },
    {
     "data": {
      "application/vnd.jupyter.widget-view+json": {
       "model_id": "c49d8fa457074a54b8ef1ec4bdeb7f25",
       "version_major": 2,
       "version_minor": 0
      },
      "text/plain": [
       "  0%|          | 0/2 [00:00<?, ?it/s]"
      ]
     },
     "metadata": {},
     "output_type": "display_data"
    },
    {
     "data": {
      "application/vnd.jupyter.widget-view+json": {
       "model_id": "c6ff552686ff450eb19102229e4ba5b2",
       "version_major": 2,
       "version_minor": 0
      },
      "text/plain": [
       "  0%|          | 0/2 [00:00<?, ?it/s]"
      ]
     },
     "metadata": {},
     "output_type": "display_data"
    },
    {
     "data": {
      "application/vnd.jupyter.widget-view+json": {
       "model_id": "f6d5b215630f4755962bfd07dc656d24",
       "version_major": 2,
       "version_minor": 0
      },
      "text/plain": [
       "  0%|          | 0/2 [00:00<?, ?it/s]"
      ]
     },
     "metadata": {},
     "output_type": "display_data"
    }
   ],
   "source": [
    "# Main Benchmark Code\n",
    "\n",
    "\n",
    "iterations = 10\n",
    "algorithm_to_performance_triplets = defaultdict(list)\n",
    "algorithm_to_performance_rf = defaultdict(list)\n",
    "\n",
    "for _ in tqdm(range(iterations)):\n",
    "    ground_truth_tree = bd_sim.simulate_tree()\n",
    "\n",
    "    np.random.seed(None)\n",
    "    lt_sim.overlay_data(ground_truth_tree)\n",
    "\n",
    "    for algorithm_name in tqdm(algorithms.keys()):\n",
    "        algorithm = algorithms[algorithm_name]\n",
    "        \n",
    "        reconstructed_tree = cas.data.CassiopeiaTree(\n",
    "            character_matrix=ground_truth_tree.character_matrix,\n",
    "            missing_state_indicator=-1,\n",
    "        )\n",
    "\n",
    "        algorithm.solve(reconstructed_tree)\n",
    "\n",
    "        # ground_truth_tree.collapse_mutationless_edges(infer_ancestral_characters = False)\n",
    "        reconstructed_tree.collapse_mutationless_edges(infer_ancestral_characters=True)\n",
    "\n",
    "        rf, rf_max = cas.critique.compare.robinson_foulds(\n",
    "            ground_truth_tree, reconstructed_tree\n",
    "        )\n",
    "\n",
    "        triplets = cas.critique.compare.triplets_correct(\n",
    "            ground_truth_tree, reconstructed_tree, number_of_trials=500\n",
    "        )\n",
    "        algorithm_to_performance_triplets[algorithm_name].append(\n",
    "            np.mean(list(triplets[0].values()))\n",
    "        )\n",
    "\n",
    "        algorithm_to_performance_rf[algorithm_name].append(rf / rf_max)"
   ]
  },
  {
   "cell_type": "markdown",
   "metadata": {},
   "source": [
    "**Visualising Results**\n",
    "\n",
    "We will visualize the results by looking at two metrics offered by the Cassiopeia `critique` library:\n",
    "\n",
    "- Triplets Correct Measure\n",
    "- Robinson-Foulds Distance"
   ]
  },
  {
   "cell_type": "code",
   "execution_count": 4,
   "metadata": {},
   "outputs": [
    {
     "data": {
      "image/png": "[encoded data removed]",
      "text/plain": [
       "<Figure size 640x480 with 1 Axes>"
      ]
     },
     "metadata": {},
     "output_type": "display_data"
    },
    {
     "name": "stdout",
     "output_type": "stream",
     "text": [
      "                    count      mean       std       min       25%       50%  \\\n",
      "Algorithm                                                                     \n",
      "Felsenstein Greedy   10.0  0.494478  0.059815  0.413111  0.430389  0.521833   \n",
      "Vanilla Greedy       10.0  0.501644  0.062060  0.411333  0.463167  0.519833   \n",
      "\n",
      "                         75%       max  \n",
      "Algorithm                               \n",
      "Felsenstein Greedy  0.537722  0.569667  \n",
      "Vanilla Greedy      0.534389  0.593333  \n"
     ]
    }
   ],
   "source": [
    "# Triplets Correct Measure\n",
    "algorithm_to_performance_triplets_df = pd.DataFrame(columns=[\"Algorithm\", \"Triplets\"])\n",
    "for algorithm in algorithm_to_performance_triplets:\n",
    "    entries = algorithm_to_performance_triplets[algorithm]\n",
    "    new_df = pd.DataFrame([algorithm] * len(entries), columns=[\"Algorithm\"])\n",
    "    new_df[\"Triplets\"] = entries\n",
    "\n",
    "    algorithm_to_performance_triplets_df = pd.concat([algorithm_to_performance_triplets_df, new_df])\n",
    "\n",
    "sns.boxplot(data=algorithm_to_performance_triplets_df, x=\"Algorithm\", y=\"Triplets\")\n",
    "plt.show()\n",
    "\n",
    "triplets_stats = algorithm_to_performance_triplets_df.groupby(\"Algorithm\")[\"Triplets\"].describe()\n",
    "print(triplets_stats)"
   ]
  },
  {
   "cell_type": "code",
   "execution_count": 5,
   "metadata": {},
   "outputs": [
    {
     "data": {
      "image/png": "[encoded data removed]",
      "text/plain": [
       "<Figure size 640x480 with 1 Axes>"
      ]
     },
     "metadata": {},
     "output_type": "display_data"
    },
    {
     "name": "stdout",
     "output_type": "stream",
     "text": [
      "                    count      mean       std       min       25%       50%  \\\n",
      "Algorithm                                                                     \n",
      "Felsenstein Greedy   10.0  0.705341  0.076934  0.516408  0.696232  0.729644   \n",
      "Vanilla Greedy       10.0  0.692646  0.046751  0.612142  0.660484  0.696733   \n",
      "\n",
      "                         75%       max  \n",
      "Algorithm                               \n",
      "Felsenstein Greedy  0.749228  0.775801  \n",
      "Vanilla Greedy      0.715739  0.775000  \n"
     ]
    }
   ],
   "source": [
    "# Robinson-Foulds Distance\n",
    "algorithm_to_performance_rf_df = pd.DataFrame(columns=[\"Algorithm\", \"RF\"])\n",
    "for algorithm in algorithm_to_performance_rf:\n",
    "    entries = algorithm_to_performance_rf[algorithm]\n",
    "    new_df = pd.DataFrame([algorithm] * len(entries), columns=[\"Algorithm\"])\n",
    "    new_df[\"RF\"] = entries\n",
    "\n",
    "    algorithm_to_performance_rf_df = pd.concat([algorithm_to_performance_rf_df, new_df])\n",
    "\n",
    "sns.boxplot(data=algorithm_to_performance_rf_df, x=\"Algorithm\", y=\"RF\")\n",
    "plt.show()\n",
    "\n",
    "rf_stats = algorithm_to_performance_rf_df.groupby(\"Algorithm\")[\"RF\"].describe()\n",
    "print(rf_stats)"
   ]
  }
 ],
 "metadata": {
  "kernelspec": {
   "display_name": "env",
   "language": "python",
   "name": "python3"
  },
  "language_info": {
   "codemirror_mode": {
    "name": "ipython",
    "version": 3
   },
   "file_extension": ".py",
   "mimetype": "text/x-python",
   "name": "python",
   "nbconvert_exporter": "python",
   "pygments_lexer": "ipython3",
   "version": "3.9.5"
  }
 },
 "nbformat": 4,
 "nbformat_minor": 2
}
