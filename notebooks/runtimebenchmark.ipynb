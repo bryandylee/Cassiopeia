{
 "cells": [
  {
   "cell_type": "markdown",
   "metadata": {},
   "source": [
    "# Greedy Algorithm Benchmarking (Runtime)\n",
    "\n",
    "This notebook serves to benchmark VanillaGreedySolver and our various solvers with runtime improvements. However, it will also work with other solvers as well.\n",
    "\n",
    "You can install Cassiopeia by following the guide [here](https://cassiopeia-lineage.readthedocs.io/en/latest/installation.html).\n",
    "\n",
    "All of our documentation is hosted [here](https://cassiopeia-lineage.readthedocs.io/en/latest/)."
   ]
  },
  {
   "cell_type": "code",
   "execution_count": 1,
   "metadata": {},
   "outputs": [],
   "source": [
    "from collections import defaultdict\n",
    "\n",
    "import matplotlib.pyplot as plt\n",
    "import numpy as np\n",
    "import pandas as pd\n",
    "import seaborn as sns\n",
    "from tqdm.auto import tqdm\n",
    "\n",
    "import cassiopeia as cas"
   ]
  },
  {
   "cell_type": "markdown",
   "metadata": {},
   "source": [
    "## Building benchmarking pipeline\n",
    "\n",
    "The benchmarking pipeline consists of:\n",
    "\n",
    "1. Simulating a ground truth phylogeny\n",
    "2. Overlaying data onto this phylogeny\n",
    "3. Inferring the phylogeny with potentially many algorithms\n",
    "4. Assessing performance"
   ]
  },
  {
   "cell_type": "markdown",
   "metadata": {},
   "source": [
    "Setting up necessary variables\n",
    "- `algorithm` = The algorithms we will compare\n",
    "- `bd_sim` = Simulates a birth-death process for creating a ground truth tree\n",
    "- `lt_sim` = Uses a Cas9-based lineage tracing data simulator for overlaying data"
   ]
  },
  {
   "cell_type": "code",
   "execution_count": 2,
   "metadata": {},
   "outputs": [],
   "source": [
    "algorithms = {\n",
    "    \"Vanilla\": cas.solver.VanillaGreedySolver(),\n",
    "    \"Pandas\": cas.solver.PandasGreedySolver(),\n",
    "    \"Multi-Threading\": cas.solver.MultiThreadGreedySolver(),\n",
    "    \"Multi-Processing\": cas.solver.MultiProcessGreedySolver()\n",
    "    # can add more algorithms here\n",
    "}\n",
    "\n",
    "bd_sim = cas.sim.BirthDeathFitnessSimulator(\n",
    "    birth_waiting_distribution=lambda scale: np.random.exponential(scale),\n",
    "    initial_birth_scale=0.5,\n",
    "    death_waiting_distribution=lambda: np.random.exponential(1.5),\n",
    "    mutation_distribution=lambda: 1 if np.random.uniform() < 0.5 else 0,\n",
    "    fitness_distribution=lambda: np.random.normal(0, 0.5),\n",
    "    fitness_base=1.3,\n",
    "    num_extant=400,\n",
    "    random_seed=17,\n",
    ")\n",
    "\n",
    "np.random.seed(seed=None)\n",
    "lt_sim = cas.sim.Cas9LineageTracingDataSimulator(\n",
    "    number_of_cassettes=40,\n",
    "    size_of_cassette=1,\n",
    "    mutation_rate=0.1,\n",
    "    state_generating_distribution=lambda: np.random.exponential(1e-5),\n",
    "    number_of_states=50,\n",
    "    state_priors=None,\n",
    "    heritable_silencing_rate=9e-4,\n",
    "    stochastic_silencing_rate=0.1,\n",
    "    heritable_missing_data_state=-1,\n",
    "    stochastic_missing_data_state=-1,\n",
    ")"
   ]
  },
  {
   "cell_type": "code",
   "execution_count": 3,
   "metadata": {},
   "outputs": [
    {
     "data": {
      "application/vnd.jupyter.widget-view+json": {
       "model_id": "dd11d4822155405e82e3952a736f2da7",
       "version_major": 2,
       "version_minor": 0
      },
      "text/plain": [
       "  0%|          | 0/10 [00:00<?, ?it/s]"
      ]
     },
     "metadata": {},
     "output_type": "display_data"
    },
    {
     "data": {
      "application/vnd.jupyter.widget-view+json": {
       "model_id": "affa60655fc045adae4786a3f0a4bdd9",
       "version_major": 2,
       "version_minor": 0
      },
      "text/plain": [
       "  0%|          | 0/4 [00:00<?, ?it/s]"
      ]
     },
     "metadata": {},
     "output_type": "display_data"
    },
    {
     "data": {
      "application/vnd.jupyter.widget-view+json": {
       "model_id": "584756a23fbb4379afe7d838730a1ab7",
       "version_major": 2,
       "version_minor": 0
      },
      "text/plain": [
       "  0%|          | 0/4 [00:00<?, ?it/s]"
      ]
     },
     "metadata": {},
     "output_type": "display_data"
    },
    {
     "data": {
      "application/vnd.jupyter.widget-view+json": {
       "model_id": "5b718918a18e436d8f87a0c0592c1889",
       "version_major": 2,
       "version_minor": 0
      },
      "text/plain": [
       "  0%|          | 0/4 [00:00<?, ?it/s]"
      ]
     },
     "metadata": {},
     "output_type": "display_data"
    },
    {
     "data": {
      "application/vnd.jupyter.widget-view+json": {
       "model_id": "3de11833610e4ae9ae6af20af7fdbdce",
       "version_major": 2,
       "version_minor": 0
      },
      "text/plain": [
       "  0%|          | 0/4 [00:00<?, ?it/s]"
      ]
     },
     "metadata": {},
     "output_type": "display_data"
    },
    {
     "data": {
      "application/vnd.jupyter.widget-view+json": {
       "model_id": "b2b98dc7729c453f93d02da0f1922bc8",
       "version_major": 2,
       "version_minor": 0
      },
      "text/plain": [
       "  0%|          | 0/4 [00:00<?, ?it/s]"
      ]
     },
     "metadata": {},
     "output_type": "display_data"
    },
    {
     "data": {
      "application/vnd.jupyter.widget-view+json": {
       "model_id": "5d12644237de4b928f59b4b34d6a0963",
       "version_major": 2,
       "version_minor": 0
      },
      "text/plain": [
       "  0%|          | 0/4 [00:00<?, ?it/s]"
      ]
     },
     "metadata": {},
     "output_type": "display_data"
    },
    {
     "data": {
      "application/vnd.jupyter.widget-view+json": {
       "model_id": "0d3c510bbb184b9c9e479575d54c857f",
       "version_major": 2,
       "version_minor": 0
      },
      "text/plain": [
       "  0%|          | 0/4 [00:00<?, ?it/s]"
      ]
     },
     "metadata": {},
     "output_type": "display_data"
    },
    {
     "data": {
      "application/vnd.jupyter.widget-view+json": {
       "model_id": "5bcff46985df4daaa08f2f9c669404f5",
       "version_major": 2,
       "version_minor": 0
      },
      "text/plain": [
       "  0%|          | 0/4 [00:00<?, ?it/s]"
      ]
     },
     "metadata": {},
     "output_type": "display_data"
    },
    {
     "data": {
      "application/vnd.jupyter.widget-view+json": {
       "model_id": "697092b959894efb9a68d545751dff0d",
       "version_major": 2,
       "version_minor": 0
      },
      "text/plain": [
       "  0%|          | 0/4 [00:00<?, ?it/s]"
      ]
     },
     "metadata": {},
     "output_type": "display_data"
    },
    {
     "data": {
      "application/vnd.jupyter.widget-view+json": {
       "model_id": "86b25f5e47814cbcacc698e7267e0668",
       "version_major": 2,
       "version_minor": 0
      },
      "text/plain": [
       "  0%|          | 0/4 [00:00<?, ?it/s]"
      ]
     },
     "metadata": {},
     "output_type": "display_data"
    }
   ],
   "source": [
    "# Main Benchmark Code\n",
    "iterations = 10\n",
    "algorithm_to_performance_triplets = defaultdict(list)\n",
    "algorithm_to_performance_rf = defaultdict(list)\n",
    "\n",
    "for _ in tqdm(range(iterations)):\n",
    "    ground_truth_tree = bd_sim.simulate_tree()\n",
    "\n",
    "    np.random.seed(None)\n",
    "    lt_sim.overlay_data(ground_truth_tree)\n",
    "\n",
    "    for algorithm_name in tqdm(algorithms.keys()):\n",
    "        algorithm = algorithms[algorithm_name]\n",
    "        reconstructed_tree = cas.data.CassiopeiaTree(\n",
    "            character_matrix=ground_truth_tree.character_matrix,\n",
    "            missing_state_indicator=-1,\n",
    "        )\n",
    "        algorithm.solve(reconstructed_tree)\n",
    "        \n",
    "        reconstructed_tree.collapse_mutationless_edges(infer_ancestral_characters=True)\n",
    "\n",
    "        rf, rf_max = cas.critique.compare.robinson_foulds(\n",
    "            ground_truth_tree, reconstructed_tree\n",
    "        )\n",
    "\n",
    "        triplets = cas.critique.compare.triplets_correct(\n",
    "            ground_truth_tree, reconstructed_tree, number_of_trials=500\n",
    "        )\n",
    "        algorithm_to_performance_triplets[algorithm_name].append(\n",
    "            np.mean(list(triplets[0].values()))\n",
    "        )\n",
    "\n",
    "        algorithm_to_performance_rf[algorithm_name].append(rf / rf_max)"
   ]
  },
  {
   "cell_type": "markdown",
   "metadata": {},
   "source": [
    "**Visualising Results**\n",
    "\n",
    "We will visualize the results by looking at two metrics offered by the Cassiopeia `critique` library:\n",
    "\n",
    "- Triplets Correct Measure\n",
    "- Robinson-Foulds Distance"
   ]
  },
  {
   "cell_type": "code",
   "execution_count": 6,
   "metadata": {},
   "outputs": [
    {
     "data": {
      "image/png": "[encoded data removed]",
      "text/plain": [
       "<Figure size 640x480 with 1 Axes>"
      ]
     },
     "metadata": {},
     "output_type": "display_data"
    },
    {
     "name": "stdout",
     "output_type": "stream",
     "text": [
      "                  count      mean       std       min       25%       50%  \\\n",
      "Algorithm                                                                   \n",
      "Multi-Processing   10.0  0.515911  0.075541  0.434222  0.464556  0.483056   \n",
      "Multi-Threading    10.0  0.516222  0.076081  0.434667  0.464833  0.481833   \n",
      "Pandas             10.0  0.517233  0.074432  0.435444  0.469444  0.486444   \n",
      "Vanilla            10.0  0.516189  0.075725  0.431778  0.471083  0.485389   \n",
      "\n",
      "                       75%       max  \n",
      "Algorithm                             \n",
      "Multi-Processing  0.576972  0.659111  \n",
      "Multi-Threading   0.576639  0.659889  \n",
      "Pandas            0.575472  0.660444  \n",
      "Vanilla           0.577250  0.658889  \n"
     ]
    }
   ],
   "source": [
    "# Triplets Correct Measure\n",
    "algorithm_to_performance_triplets_df = pd.DataFrame(columns=[\"Algorithm\", \"Triplets\"])\n",
    "for algorithm in algorithm_to_performance_triplets:\n",
    "    entries = algorithm_to_performance_triplets[algorithm]\n",
    "    new_df = pd.DataFrame([algorithm] * len(entries), columns=[\"Algorithm\"])\n",
    "    new_df[\"Triplets\"] = entries\n",
    "\n",
    "    algorithm_to_performance_triplets_df = pd.concat([algorithm_to_performance_triplets_df, new_df])\n",
    "\n",
    "sns.boxplot(data=algorithm_to_performance_triplets_df, x=\"Algorithm\", y=\"Triplets\")\n",
    "plt.show()\n",
    "\n",
    "triplets_stats = algorithm_to_performance_triplets_df.groupby(\"Algorithm\")[\"Triplets\"].describe()\n",
    "print(triplets_stats)"
   ]
  },
  {
   "cell_type": "code",
   "execution_count": 7,
   "metadata": {},
   "outputs": [
    {
     "data": {
      "image/png": "[encoded data removed]",
      "text/plain": [
       "<Figure size 640x480 with 1 Axes>"
      ]
     },
     "metadata": {},
     "output_type": "display_data"
    },
    {
     "name": "stdout",
     "output_type": "stream",
     "text": [
      "                  count      mean       std       min       25%       50%  \\\n",
      "Algorithm                                                                   \n",
      "Multi-Processing   10.0  0.707528  0.061162  0.639794  0.662341  0.692290   \n",
      "Multi-Threading    10.0  0.707528  0.061162  0.639794  0.662341  0.692290   \n",
      "Pandas             10.0  0.707528  0.061162  0.639794  0.662341  0.692290   \n",
      "Vanilla            10.0  0.708310  0.062419  0.636678  0.663449  0.692547   \n",
      "\n",
      "                       75%       max  \n",
      "Algorithm                             \n",
      "Multi-Processing  0.754082  0.823322  \n",
      "Multi-Threading   0.754082  0.823322  \n",
      "Pandas            0.754082  0.823322  \n",
      "Vanilla           0.756347  0.826855  \n"
     ]
    }
   ],
   "source": [
    "# Robinson-Foulds Distance\n",
    "algorithm_to_performance_rf_df = pd.DataFrame(columns=[\"Algorithm\", \"RF\"])\n",
    "for algorithm in algorithm_to_performance_rf:\n",
    "    entries = algorithm_to_performance_rf[algorithm]\n",
    "    new_df = pd.DataFrame([algorithm] * len(entries), columns=[\"Algorithm\"])\n",
    "    new_df[\"RF\"] = entries\n",
    "\n",
    "    algorithm_to_performance_rf_df = pd.concat([algorithm_to_performance_rf_df, new_df])\n",
    "\n",
    "sns.boxplot(data=algorithm_to_performance_rf_df, x=\"Algorithm\", y=\"RF\")\n",
    "plt.show()\n",
    "\n",
    "rf_stats = algorithm_to_performance_rf_df.groupby(\"Algorithm\")[\"RF\"].describe()\n",
    "print(rf_stats)"
   ]
  }
 ],
 "metadata": {
  "kernelspec": {
   "display_name": "Python (4775venv)",
   "language": "python",
   "name": "4775env"
  },
  "language_info": {
   "codemirror_mode": {
    "name": "ipython",
    "version": 3
   },
   "file_extension": ".py",
   "mimetype": "text/x-python",
   "name": "python",
   "nbconvert_exporter": "python",
   "pygments_lexer": "ipython3",
   "version": "3.9.5"
  }
 },
 "nbformat": 4,
 "nbformat_minor": 2
}
