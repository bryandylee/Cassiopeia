{
 "cells": [
  {
   "cell_type": "markdown",
   "metadata": {},
   "source": [
    "# Greedy Algorithm Benchmarking (KNN)\n",
    "\n",
    "This notebook serves to benchmark VanillaGreedySolver with our missing data imputation functions that utilize KNN.\n",
    "\n",
    "You can install Cassiopeia by following the guide [here](https://cassiopeia-lineage.readthedocs.io/en/latest/installation.html).\n",
    "\n",
    "All of our documentation is hosted [here](https://cassiopeia-lineage.readthedocs.io/en/latest/)."
   ]
  },
  {
   "cell_type": "code",
   "execution_count": 1,
   "metadata": {},
   "outputs": [],
   "source": [
    "from collections import defaultdict\n",
    "import matplotlib.pyplot as plt\n",
    "import numpy as np\n",
    "import pandas as pd\n",
    "import seaborn as sns\n",
    "from tqdm.auto import tqdm\n",
    "import random\n",
    "\n",
    "import cassiopeia as cas"
   ]
  },
  {
   "cell_type": "markdown",
   "metadata": {},
   "source": [
    "## Building benchmarking pipeline\n",
    "\n",
    "The benchmarking pipeline consists of:\n",
    "\n",
    "1. Simulating a ground truth phylogeny\n",
    "2. Overlaying data onto this phylogeny\n",
    "3. Inferring the phylogeny with potentially many algorithms\n",
    "4. Assessing performance"
   ]
  },
  {
   "cell_type": "markdown",
   "metadata": {},
   "source": [
    "Setting up necessary variables\n",
    "- `algorithm` = The algorithms we will compare\n",
    "- `bd_sim` = Simulates a birth-death process for creating a ground truth tree\n",
    "- `lt_sim` = Uses a Cas9-based lineage tracing data simulator for overlaying data"
   ]
  },
  {
   "cell_type": "code",
   "execution_count": 2,
   "metadata": {},
   "outputs": [],
   "source": [
    "algorithms = {\n",
    "    \"Vanilla Greedy\": cas.solver.VanillaGreedySolver(),\n",
    "    \"k=1\": cas.solver.VanillaGreedySolver(),\n",
    "    \"k=3\": cas.solver.VanillaGreedySolver(),\n",
    "    \"k=5\": cas.solver.VanillaGreedySolver(),\n",
    "    # can add more algorithms here\n",
    "}\n",
    "\n",
    "bd_sim = cas.sim.BirthDeathFitnessSimulator(\n",
    "    birth_waiting_distribution=lambda scale: np.random.exponential(scale),\n",
    "    initial_birth_scale=0.5,\n",
    "    death_waiting_distribution=lambda: np.random.exponential(1.5),\n",
    "    mutation_distribution=lambda: 1 if np.random.uniform() < 0.5 else 0,\n",
    "    fitness_distribution=lambda: np.random.normal(0, 0.5),\n",
    "    fitness_base=1.3,\n",
    "    num_extant=400,\n",
    "    random_seed=17,\n",
    ")\n",
    "\n",
    "np.random.seed(seed=None)\n",
    "lt_sim = cas.sim.Cas9LineageTracingDataSimulator(\n",
    "    number_of_cassettes=40,\n",
    "    size_of_cassette=1,\n",
    "    mutation_rate=0.1,\n",
    "    state_generating_distribution=lambda: np.random.exponential(1e-5),\n",
    "    number_of_states=50,\n",
    "    state_priors=None,\n",
    "    heritable_silencing_rate=9e-4,\n",
    "    stochastic_silencing_rate=0.1,\n",
    "    heritable_missing_data_state=-1,\n",
    "    stochastic_missing_data_state=-1,\n",
    ")"
   ]
  },
  {
   "cell_type": "code",
   "execution_count": 3,
   "metadata": {},
   "outputs": [
    {
     "data": {
      "application/vnd.jupyter.widget-view+json": {
       "model_id": "776e90e1b63f408fbe648159c90487c8",
       "version_major": 2,
       "version_minor": 0
      },
      "text/plain": [
       "  0%|          | 0/10 [00:00<?, ?it/s]"
      ]
     },
     "metadata": {},
     "output_type": "display_data"
    },
    {
     "data": {
      "application/vnd.jupyter.widget-view+json": {
       "model_id": "0436efb65c2745d68d464261cc023d8d",
       "version_major": 2,
       "version_minor": 0
      },
      "text/plain": [
       "  0%|          | 0/4 [00:00<?, ?it/s]"
      ]
     },
     "metadata": {},
     "output_type": "display_data"
    },
    {
     "data": {
      "application/vnd.jupyter.widget-view+json": {
       "model_id": "d489cb8e9cf6463bb95401f641e656df",
       "version_major": 2,
       "version_minor": 0
      },
      "text/plain": [
       "  0%|          | 0/4 [00:00<?, ?it/s]"
      ]
     },
     "metadata": {},
     "output_type": "display_data"
    },
    {
     "data": {
      "application/vnd.jupyter.widget-view+json": {
       "model_id": "3905dccbaa3243cc95617e94ffb75efc",
       "version_major": 2,
       "version_minor": 0
      },
      "text/plain": [
       "  0%|          | 0/4 [00:00<?, ?it/s]"
      ]
     },
     "metadata": {},
     "output_type": "display_data"
    },
    {
     "data": {
      "application/vnd.jupyter.widget-view+json": {
       "model_id": "bad251a594134771b10ac616f46a268d",
       "version_major": 2,
       "version_minor": 0
      },
      "text/plain": [
       "  0%|          | 0/4 [00:00<?, ?it/s]"
      ]
     },
     "metadata": {},
     "output_type": "display_data"
    },
    {
     "data": {
      "application/vnd.jupyter.widget-view+json": {
       "model_id": "fd0f8e722b304aa48490fdc570bea1f6",
       "version_major": 2,
       "version_minor": 0
      },
      "text/plain": [
       "  0%|          | 0/4 [00:00<?, ?it/s]"
      ]
     },
     "metadata": {},
     "output_type": "display_data"
    },
    {
     "data": {
      "application/vnd.jupyter.widget-view+json": {
       "model_id": "38fff5052c17472a952564de1f990294",
       "version_major": 2,
       "version_minor": 0
      },
      "text/plain": [
       "  0%|          | 0/4 [00:00<?, ?it/s]"
      ]
     },
     "metadata": {},
     "output_type": "display_data"
    },
    {
     "data": {
      "application/vnd.jupyter.widget-view+json": {
       "model_id": "a3fb65f4fa864192826a64e44c0d1170",
       "version_major": 2,
       "version_minor": 0
      },
      "text/plain": [
       "  0%|          | 0/4 [00:00<?, ?it/s]"
      ]
     },
     "metadata": {},
     "output_type": "display_data"
    },
    {
     "data": {
      "application/vnd.jupyter.widget-view+json": {
       "model_id": "b718ec4c2f014046b32886f7b0ffb69f",
       "version_major": 2,
       "version_minor": 0
      },
      "text/plain": [
       "  0%|          | 0/4 [00:00<?, ?it/s]"
      ]
     },
     "metadata": {},
     "output_type": "display_data"
    },
    {
     "data": {
      "application/vnd.jupyter.widget-view+json": {
       "model_id": "c5b231eb29544b9fa2cc3c53603bd1fb",
       "version_major": 2,
       "version_minor": 0
      },
      "text/plain": [
       "  0%|          | 0/4 [00:00<?, ?it/s]"
      ]
     },
     "metadata": {},
     "output_type": "display_data"
    },
    {
     "data": {
      "application/vnd.jupyter.widget-view+json": {
       "model_id": "82ed71ed5a2545ea9361a88c0ceadd5a",
       "version_major": 2,
       "version_minor": 0
      },
      "text/plain": [
       "  0%|          | 0/4 [00:00<?, ?it/s]"
      ]
     },
     "metadata": {},
     "output_type": "display_data"
    }
   ],
   "source": [
    "# Main Benchmark Code\n",
    "\n",
    "\n",
    "def impute_chr_mat(chr_mat, p=1, deterministic=False, k=1):\n",
    "    def score(lst1, lst2):\n",
    "        score = 0\n",
    "        for i in range(len(lst1)):\n",
    "            if lst1[i] == lst2[i]:\n",
    "                score += 1\n",
    "        return score\n",
    "\n",
    "    chr_mat_copy = chr_mat.copy(deep=True)\n",
    "    for c in chr_mat_copy.columns:\n",
    "        # print(c)\n",
    "\n",
    "        chr_mat_copy.sort_values(by=c, axis=0, inplace=True)\n",
    "\n",
    "        missing = []\n",
    "        labeled = []\n",
    "\n",
    "        for r in chr_mat_copy.index:\n",
    "            if chr_mat_copy[c][r] == -1:\n",
    "                missing.append(r)\n",
    "            else:\n",
    "                labeled.append(r)\n",
    "\n",
    "        labeled = np.array(labeled)\n",
    "\n",
    "        for m in range(len(missing)):\n",
    "            scores = []\n",
    "            # max_score = 0\n",
    "            # idx = 0\n",
    "            for l in range(len(labeled)):\n",
    "                s = score(\n",
    "                    chr_mat.iloc[m].values.tolist(),\n",
    "                    chr_mat.iloc[len(missing) + l].values.tolist(),\n",
    "                )\n",
    "                scores.append(s)\n",
    "                # if s > max_score:\n",
    "                #   max_score = s\n",
    "                #   idx = l\n",
    "\n",
    "            scores = np.array(scores)\n",
    "\n",
    "            # Impute with 75% probability\n",
    "            if random.random() <= p:\n",
    "                if deterministic:\n",
    "                    lst = list(labeled[np.argsort(scores)[:k]])\n",
    "                    # print(lst)\n",
    "                    pred = max(set(lst), key=lst.count)\n",
    "                else:\n",
    "                    pred = random.choices(labeled, weights=scores)[0]\n",
    "                chr_mat_copy[c][missing[m]] = chr_mat_copy[c][pred]\n",
    "\n",
    "    chr_mat_copy.sort_index(inplace=True)\n",
    "\n",
    "    return chr_mat_copy\n",
    "\n",
    "    # print(missing)\n",
    "    # print(labeled)\n",
    "\n",
    "    # Separate column into cells with missing values and cells without missing values\n",
    "    # For each missing value\n",
    "    # Iterate through the cells without the missing value. Determine a\n",
    "    # similarity score (+1) if matching mutation or both missing, (+0) if not\n",
    "    # Form the probability distribution based on similarity score\n",
    "\n",
    "\n",
    "iterations = 10\n",
    "algorithm_to_performance_triplets = defaultdict(list)\n",
    "algorithm_to_performance_rf = defaultdict(list)\n",
    "\n",
    "for _ in tqdm(range(iterations)):\n",
    "    ground_truth_tree = bd_sim.simulate_tree()\n",
    "\n",
    "    np.random.seed(None)\n",
    "    lt_sim.overlay_data(ground_truth_tree)\n",
    "\n",
    "    for algorithm_name in tqdm(algorithms.keys()):\n",
    "        algorithm = algorithms[algorithm_name]\n",
    "        cm = ground_truth_tree.character_matrix\n",
    "        if algorithm_name == \"k=1\":\n",
    "            cm = impute_chr_mat(cm, 1, True, 1)\n",
    "        if algorithm_name == \"k=3\":\n",
    "            cm = impute_chr_mat(cm, 1, True, 3)\n",
    "        if algorithm_name == \"k=5\":\n",
    "            cm = impute_chr_mat(cm, 1, True, 5)\n",
    "\n",
    "        reconstructed_tree = cas.data.CassiopeiaTree(\n",
    "            character_matrix=cm,\n",
    "            missing_state_indicator=-1,\n",
    "        )\n",
    "\n",
    "        algorithm.solve(reconstructed_tree)\n",
    "\n",
    "        # ground_truth_tree.collapse_mutationless_edges(infer_ancestral_characters = False)\n",
    "        reconstructed_tree.collapse_mutationless_edges(infer_ancestral_characters=True)\n",
    "\n",
    "        rf, rf_max = cas.critique.compare.robinson_foulds(\n",
    "            ground_truth_tree, reconstructed_tree\n",
    "        )\n",
    "\n",
    "        triplets = cas.critique.compare.triplets_correct(\n",
    "            ground_truth_tree, reconstructed_tree, number_of_trials=500\n",
    "        )\n",
    "        algorithm_to_performance_triplets[algorithm_name].append(\n",
    "            np.mean(list(triplets[0].values()))\n",
    "        )\n",
    "\n",
    "        algorithm_to_performance_rf[algorithm_name].append(rf / rf_max)"
   ]
  },
  {
   "cell_type": "markdown",
   "metadata": {},
   "source": [
    "**Visualising Results**\n",
    "\n",
    "We will visualize the results by looking at two metrics offered by the Cassiopeia `critique` library:\n",
    "\n",
    "- Triplets Correct Measure\n",
    "- Robinson-Foulds Distance"
   ]
  },
  {
   "cell_type": "code",
   "execution_count": 4,
   "metadata": {},
   "outputs": [
    {
     "data": {
      "image/png": "[encoded data removed]",
      "text/plain": [
       "<Figure size 640x480 with 1 Axes>"
      ]
     },
     "metadata": {},
     "output_type": "display_data"
    },
    {
     "name": "stdout",
     "output_type": "stream",
     "text": [
      "                count      mean       std       min       25%       50%  \\\n",
      "Algorithm                                                                 \n",
      "Vanilla Greedy   10.0  0.498078  0.055297  0.428000  0.464583  0.482722   \n",
      "k=1              10.0  0.423744  0.037976  0.377222  0.396361  0.407389   \n",
      "k=3              10.0  0.445078  0.040219  0.396444  0.405167  0.444667   \n",
      "k=5              10.0  0.441667  0.040326  0.390667  0.402444  0.443833   \n",
      "\n",
      "                     75%       max  \n",
      "Algorithm                           \n",
      "Vanilla Greedy  0.536306  0.586000  \n",
      "k=1             0.451833  0.488778  \n",
      "k=3             0.481806  0.494222  \n",
      "k=5             0.475389  0.497556  \n"
     ]
    }
   ],
   "source": [
    "# Triplets Correct Measure\n",
    "algorithm_to_performance_triplets_df = pd.DataFrame(columns=[\"Algorithm\", \"Triplets\"])\n",
    "for algorithm in algorithm_to_performance_triplets:\n",
    "    entries = algorithm_to_performance_triplets[algorithm]\n",
    "    new_df = pd.DataFrame([algorithm] * len(entries), columns=[\"Algorithm\"])\n",
    "    new_df[\"Triplets\"] = entries\n",
    "\n",
    "    algorithm_to_performance_triplets_df = pd.concat([algorithm_to_performance_triplets_df, new_df])\n",
    "\n",
    "sns.boxplot(data=algorithm_to_performance_triplets_df, x=\"Algorithm\", y=\"Triplets\")\n",
    "plt.show()\n",
    "\n",
    "triplets_stats = algorithm_to_performance_triplets_df.groupby(\"Algorithm\")[\"Triplets\"].describe()\n",
    "print(triplets_stats)"
   ]
  },
  {
   "cell_type": "code",
   "execution_count": 5,
   "metadata": {},
   "outputs": [
    {
     "data": {
      "image/png": "[encoded data removed]",
      "text/plain": [
       "<Figure size 640x480 with 1 Axes>"
      ]
     },
     "metadata": {},
     "output_type": "display_data"
    },
    {
     "name": "stdout",
     "output_type": "stream",
     "text": [
      "                count      mean       std       min       25%       50%  \\\n",
      "Algorithm                                                                 \n",
      "Vanilla Greedy   10.0  0.719695  0.042739  0.639073  0.691922  0.727181   \n",
      "k=1              10.0  0.927590  0.016015  0.899654  0.915793  0.928450   \n",
      "k=3              10.0  0.920554  0.014527  0.900990  0.910705  0.922418   \n",
      "k=5              10.0  0.923217  0.016589  0.893688  0.914576  0.925811   \n",
      "\n",
      "                     75%       max  \n",
      "Algorithm                           \n",
      "Vanilla Greedy  0.749580  0.774306  \n",
      "k=1             0.939345  0.948220  \n",
      "k=3             0.929285  0.946578  \n",
      "k=5             0.936336  0.941842  \n"
     ]
    }
   ],
   "source": [
    "# Robinson-Foulds Distance\n",
    "algorithm_to_performance_rf_df = pd.DataFrame(columns=[\"Algorithm\", \"RF\"])\n",
    "for algorithm in algorithm_to_performance_rf:\n",
    "    entries = algorithm_to_performance_rf[algorithm]\n",
    "    new_df = pd.DataFrame([algorithm] * len(entries), columns=[\"Algorithm\"])\n",
    "    new_df[\"RF\"] = entries\n",
    "\n",
    "    algorithm_to_performance_rf_df = pd.concat([algorithm_to_performance_rf_df, new_df])\n",
    "\n",
    "sns.boxplot(data=algorithm_to_performance_rf_df, x=\"Algorithm\", y=\"RF\")\n",
    "plt.show()\n",
    "\n",
    "rf_stats = algorithm_to_performance_rf_df.groupby(\"Algorithm\")[\"RF\"].describe()\n",
    "print(rf_stats)"
   ]
  }
 ],
 "metadata": {
  "kernelspec": {
   "display_name": "env",
   "language": "python",
   "name": "python3"
  },
  "language_info": {
   "codemirror_mode": {
    "name": "ipython",
    "version": 3
   },
   "file_extension": ".py",
   "mimetype": "text/x-python",
   "name": "python",
   "nbconvert_exporter": "python",
   "pygments_lexer": "ipython3",
   "version": "3.9.5"
  }
 },
 "nbformat": 4,
 "nbformat_minor": 2
}
