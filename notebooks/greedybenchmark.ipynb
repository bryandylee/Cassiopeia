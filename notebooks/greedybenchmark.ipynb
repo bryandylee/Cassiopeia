{
 "cells": [
  {
   "cell_type": "markdown",
   "metadata": {},
   "source": [
    "# Greedy Algorithm Benchmarking\n",
    "\n",
    "This notebook serves to benchmark VanillaGreedySolver and our own made greedy solver. However, it will also work with preexisting solvers as well.\n",
    "\n",
    "You can install Cassiopeia by following the guide [here](https://cassiopeia-lineage.readthedocs.io/en/latest/installation.html).\n",
    "\n",
    "All of our documentation is hosted [here](https://cassiopeia-lineage.readthedocs.io/en/latest/)."
   ]
  },
  {
   "cell_type": "code",
   "execution_count": 9,
   "metadata": {},
   "outputs": [],
   "source": [
    "from collections import defaultdict\n",
    "import matplotlib.pyplot as plt\n",
    "import numpy as np\n",
    "import pandas as pd\n",
    "import seaborn as sns\n",
    "from tqdm.auto import tqdm\n",
    "\n",
    "import cassiopeia as cas"
   ]
  },
  {
   "cell_type": "markdown",
   "metadata": {},
   "source": [
    "## Building benchmarking pipeline\n",
    "\n",
    "The benchmarking pipeline consists of:\n",
    "\n",
    "1. Simulating a ground truth phylogeny\n",
    "2. Overlaying data onto this phylogeny\n",
    "3. Inferring the phylogeny with potentially many algorithms\n",
    "4. Assessing performance"
   ]
  },
  {
   "cell_type": "markdown",
   "metadata": {},
   "source": [
    "Setting up necessary variables\n",
    "- `algorithm` = The algorithms we will compare\n",
    "- `bd_sim` = Simulates a birth-death process for creating a ground truth tree\n",
    "- `lt_sim` = Uses a Cas9-based lineage tracing data simulator for overlaying data"
   ]
  },
  {
   "cell_type": "code",
   "execution_count": 10,
   "metadata": {},
   "outputs": [],
   "source": [
    "algorithms = {\n",
    "    \"Vanilla Greedy\": cas.solver.VanillaGreedySolver(),\n",
    "    \"Entropy Greedy\": cas.solver.EntropyGreedySolver(),\n",
    "    \"Random-Hybrid Greedy\": cas.solver.RandomHybridGreedySolver(),\n",
    "    # can add more algorithms here\n",
    "}\n",
    "\n",
    "bd_sim = cas.sim.BirthDeathFitnessSimulator(\n",
    "    birth_waiting_distribution=lambda scale: np.random.exponential(scale),\n",
    "    initial_birth_scale=0.5,\n",
    "    death_waiting_distribution=lambda: np.random.exponential(1.5),\n",
    "    mutation_distribution=lambda: 1 if np.random.uniform() < 0.5 else 0,\n",
    "    fitness_distribution=lambda: np.random.normal(0, 0.5),\n",
    "    fitness_base=1.3,\n",
    "    num_extant=400,\n",
    "    random_seed=17,\n",
    ")\n",
    "\n",
    "np.random.seed(seed=None)\n",
    "lt_sim = cas.sim.Cas9LineageTracingDataSimulator(\n",
    "    number_of_cassettes=40,\n",
    "    size_of_cassette=1,\n",
    "    mutation_rate=0.1,\n",
    "    state_generating_distribution=lambda: np.random.exponential(1e-5),\n",
    "    number_of_states=50,\n",
    "    state_priors=None,\n",
    "    heritable_silencing_rate=9e-4,\n",
    "    stochastic_silencing_rate=0.1,\n",
    "    heritable_missing_data_state=-1,\n",
    "    stochastic_missing_data_state=-1,\n",
    ")"
   ]
  },
  {
   "cell_type": "code",
   "execution_count": 11,
   "metadata": {},
   "outputs": [
    {
     "data": {
      "application/vnd.jupyter.widget-view+json": {
       "model_id": "7426f28ebfb44c2a8475dc476dafbfdf",
       "version_major": 2,
       "version_minor": 0
      },
      "text/plain": [
       "  0%|          | 0/10 [00:00<?, ?it/s]"
      ]
     },
     "metadata": {},
     "output_type": "display_data"
    },
    {
     "data": {
      "application/vnd.jupyter.widget-view+json": {
       "model_id": "31fb58c7ab894e379e9a32765b427ae5",
       "version_major": 2,
       "version_minor": 0
      },
      "text/plain": [
       "  0%|          | 0/3 [00:00<?, ?it/s]"
      ]
     },
     "metadata": {},
     "output_type": "display_data"
    },
    {
     "data": {
      "application/vnd.jupyter.widget-view+json": {
       "model_id": "d902ab0eb92248ef990af8353c10ab56",
       "version_major": 2,
       "version_minor": 0
      },
      "text/plain": [
       "  0%|          | 0/3 [00:00<?, ?it/s]"
      ]
     },
     "metadata": {},
     "output_type": "display_data"
    },
    {
     "data": {
      "application/vnd.jupyter.widget-view+json": {
       "model_id": "8d613220990c4698a435b01b48bae6bc",
       "version_major": 2,
       "version_minor": 0
      },
      "text/plain": [
       "  0%|          | 0/3 [00:00<?, ?it/s]"
      ]
     },
     "metadata": {},
     "output_type": "display_data"
    },
    {
     "data": {
      "application/vnd.jupyter.widget-view+json": {
       "model_id": "b6c90fbf17ad4ea9884efaaed96e4a3d",
       "version_major": 2,
       "version_minor": 0
      },
      "text/plain": [
       "  0%|          | 0/3 [00:00<?, ?it/s]"
      ]
     },
     "metadata": {},
     "output_type": "display_data"
    },
    {
     "data": {
      "application/vnd.jupyter.widget-view+json": {
       "model_id": "7e655ce6d1064e88ba29c5acaf5f8123",
       "version_major": 2,
       "version_minor": 0
      },
      "text/plain": [
       "  0%|          | 0/3 [00:00<?, ?it/s]"
      ]
     },
     "metadata": {},
     "output_type": "display_data"
    },
    {
     "data": {
      "application/vnd.jupyter.widget-view+json": {
       "model_id": "1efad41900ad4700830ba52edff6c649",
       "version_major": 2,
       "version_minor": 0
      },
      "text/plain": [
       "  0%|          | 0/3 [00:00<?, ?it/s]"
      ]
     },
     "metadata": {},
     "output_type": "display_data"
    },
    {
     "data": {
      "application/vnd.jupyter.widget-view+json": {
       "model_id": "b1a5c7ec8df246ef874223a175cc6df5",
       "version_major": 2,
       "version_minor": 0
      },
      "text/plain": [
       "  0%|          | 0/3 [00:00<?, ?it/s]"
      ]
     },
     "metadata": {},
     "output_type": "display_data"
    },
    {
     "data": {
      "application/vnd.jupyter.widget-view+json": {
       "model_id": "6a02d13c9f0148ecb8ae9890dbb5f568",
       "version_major": 2,
       "version_minor": 0
      },
      "text/plain": [
       "  0%|          | 0/3 [00:00<?, ?it/s]"
      ]
     },
     "metadata": {},
     "output_type": "display_data"
    },
    {
     "data": {
      "application/vnd.jupyter.widget-view+json": {
       "model_id": "1599928dc0604686a0a3c04d82e36c19",
       "version_major": 2,
       "version_minor": 0
      },
      "text/plain": [
       "  0%|          | 0/3 [00:00<?, ?it/s]"
      ]
     },
     "metadata": {},
     "output_type": "display_data"
    },
    {
     "data": {
      "application/vnd.jupyter.widget-view+json": {
       "model_id": "c1fabc5d1a1f41c58a879510a31b2169",
       "version_major": 2,
       "version_minor": 0
      },
      "text/plain": [
       "  0%|          | 0/3 [00:00<?, ?it/s]"
      ]
     },
     "metadata": {},
     "output_type": "display_data"
    }
   ],
   "source": [
    "# Main Benchmark Code\n",
    "\n",
    "\n",
    "iterations = 10\n",
    "algorithm_to_performance_triplets = defaultdict(list)\n",
    "algorithm_to_performance_rf = defaultdict(list)\n",
    "\n",
    "for _ in tqdm(range(iterations)):\n",
    "    ground_truth_tree = bd_sim.simulate_tree()\n",
    "\n",
    "    np.random.seed(None)\n",
    "    lt_sim.overlay_data(ground_truth_tree)\n",
    "\n",
    "    for algorithm_name in tqdm(algorithms.keys()):\n",
    "        algorithm = algorithms[algorithm_name]\n",
    "        \n",
    "        reconstructed_tree = cas.data.CassiopeiaTree(\n",
    "            character_matrix=ground_truth_tree.character_matrix,\n",
    "            missing_state_indicator=-1,\n",
    "        )\n",
    "\n",
    "        algorithm.solve(reconstructed_tree)\n",
    "\n",
    "        # ground_truth_tree.collapse_mutationless_edges(infer_ancestral_characters = False)\n",
    "        reconstructed_tree.collapse_mutationless_edges(infer_ancestral_characters=True)\n",
    "\n",
    "        rf, rf_max = cas.critique.compare.robinson_foulds(\n",
    "            ground_truth_tree, reconstructed_tree\n",
    "        )\n",
    "\n",
    "        triplets = cas.critique.compare.triplets_correct(\n",
    "            ground_truth_tree, reconstructed_tree, number_of_trials=500\n",
    "        )\n",
    "        algorithm_to_performance_triplets[algorithm_name].append(\n",
    "            np.mean(list(triplets[0].values()))\n",
    "        )\n",
    "\n",
    "        algorithm_to_performance_rf[algorithm_name].append(rf / rf_max)"
   ]
  },
  {
   "cell_type": "markdown",
   "metadata": {},
   "source": [
    "**Visualising Results**\n",
    "\n",
    "We will visualize the results by looking at two metrics offered by the Cassiopeia `critique` library:\n",
    "\n",
    "- Triplets Correct Measure\n",
    "- Robinson-Foulds Distance"
   ]
  },
  {
   "cell_type": "code",
   "execution_count": 12,
   "metadata": {},
   "outputs": [
    {
     "data": {
      "image/png": "[encoded data removed]",
      "text/plain": [
       "<Figure size 640x480 with 1 Axes>"
      ]
     },
     "metadata": {},
     "output_type": "display_data"
    },
    {
     "name": "stdout",
     "output_type": "stream",
     "text": [
      "                      count      mean       std       min       25%       50%  \\\n",
      "Algorithm                                                                       \n",
      "Entropy Greedy         10.0  0.299022  0.070166  0.150333  0.275278  0.295611   \n",
      "Random-Hybrid Greedy   10.0  0.475989  0.041910  0.423222  0.435083  0.479111   \n",
      "Vanilla Greedy         10.0  0.483456  0.039063  0.421000  0.454056  0.481556   \n",
      "\n",
      "                           75%       max  \n",
      "Algorithm                                 \n",
      "Entropy Greedy        0.348944  0.391111  \n",
      "Random-Hybrid Greedy  0.511750  0.530000  \n",
      "Vanilla Greedy        0.520333  0.533111  \n"
     ]
    }
   ],
   "source": [
    "# Triplets Correct Measure\n",
    "algorithm_to_performance_triplets_df = pd.DataFrame(columns=[\"Algorithm\", \"Triplets\"])\n",
    "for algorithm in algorithm_to_performance_triplets:\n",
    "    entries = algorithm_to_performance_triplets[algorithm]\n",
    "    new_df = pd.DataFrame([algorithm] * len(entries), columns=[\"Algorithm\"])\n",
    "    new_df[\"Triplets\"] = entries\n",
    "\n",
    "    algorithm_to_performance_triplets_df = pd.concat([algorithm_to_performance_triplets_df, new_df])\n",
    "\n",
    "sns.boxplot(data=algorithm_to_performance_triplets_df, x=\"Algorithm\", y=\"Triplets\")\n",
    "plt.show()\n",
    "\n",
    "triplets_stats = algorithm_to_performance_triplets_df.groupby(\"Algorithm\")[\"Triplets\"].describe()\n",
    "print(triplets_stats)"
   ]
  },
  {
   "cell_type": "code",
   "execution_count": 13,
   "metadata": {},
   "outputs": [
    {
     "data": {
      "image/png": "[encoded data removed]",
      "text/plain": [
       "<Figure size 640x480 with 1 Axes>"
      ]
     },
     "metadata": {},
     "output_type": "display_data"
    },
    {
     "name": "stdout",
     "output_type": "stream",
     "text": [
      "                      count      mean       std       min       25%       50%  \\\n",
      "Algorithm                                                                       \n",
      "Entropy Greedy         10.0  0.843049  0.018133  0.813022  0.830067  0.845695   \n",
      "Random-Hybrid Greedy   10.0  0.724403  0.041912  0.632027  0.714889  0.731158   \n",
      "Vanilla Greedy         10.0  0.701223  0.042727  0.611486  0.685057  0.709768   \n",
      "\n",
      "                           75%       max  \n",
      "Algorithm                                 \n",
      "Entropy Greedy        0.857740  0.863481  \n",
      "Random-Hybrid Greedy  0.742863  0.794690  \n",
      "Vanilla Greedy        0.733568  0.749559  \n"
     ]
    }
   ],
   "source": [
    "# Robinson-Foulds Distance\n",
    "algorithm_to_performance_rf_df = pd.DataFrame(columns=[\"Algorithm\", \"RF\"])\n",
    "for algorithm in algorithm_to_performance_rf:\n",
    "    entries = algorithm_to_performance_rf[algorithm]\n",
    "    new_df = pd.DataFrame([algorithm] * len(entries), columns=[\"Algorithm\"])\n",
    "    new_df[\"RF\"] = entries\n",
    "\n",
    "    algorithm_to_performance_rf_df = pd.concat([algorithm_to_performance_rf_df, new_df])\n",
    "\n",
    "sns.boxplot(data=algorithm_to_performance_rf_df, x=\"Algorithm\", y=\"RF\")\n",
    "plt.show()\n",
    "\n",
    "rf_stats = algorithm_to_performance_rf_df.groupby(\"Algorithm\")[\"RF\"].describe()\n",
    "print(rf_stats)"
   ]
  }
 ],
 "metadata": {
  "kernelspec": {
   "display_name": "env",
   "language": "python",
   "name": "python3"
  },
  "language_info": {
   "codemirror_mode": {
    "name": "ipython",
    "version": 3
   },
   "file_extension": ".py",
   "mimetype": "text/x-python",
   "name": "python",
   "nbconvert_exporter": "python",
   "pygments_lexer": "ipython3",
   "version": "3.9.5"
  }
 },
 "nbformat": 4,
 "nbformat_minor": 2
}
