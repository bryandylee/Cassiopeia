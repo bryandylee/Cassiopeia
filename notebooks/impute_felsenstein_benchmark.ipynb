{
 "cells": [
  {
   "cell_type": "markdown",
   "metadata": {},
   "source": [
    "# Greedy Algorithm Benchmarking (KNN + Felsenstein's Algorithm)\n",
    "\n",
    "This notebook serves to benchmark VanillaGreedySolver against our missing data imputation function that utilizes uniform bootstrapping and is optimized with Felsenstein's algorithm with bagging.\n",
    "\n",
    "You can install Cassiopeia by following the guide [here](https://cassiopeia-lineage.readthedocs.io/en/latest/installation.html).\n",
    "\n",
    "All of our documentation is hosted [here](https://cassiopeia-lineage.readthedocs.io/en/latest/)."
   ]
  },
  {
   "cell_type": "code",
   "execution_count": 1,
   "metadata": {},
   "outputs": [],
   "source": [
    "from collections import defaultdict\n",
    "import matplotlib.pyplot as plt\n",
    "import numpy as np\n",
    "import pandas as pd\n",
    "import seaborn as sns\n",
    "from tqdm.auto import tqdm\n",
    "import random\n",
    "import math\n",
    "\n",
    "import cassiopeia as cas"
   ]
  },
  {
   "cell_type": "markdown",
   "metadata": {},
   "source": [
    "## Building benchmarking pipeline\n",
    "\n",
    "The benchmarking pipeline consists of:\n",
    "\n",
    "1. Simulating a ground truth phylogeny\n",
    "2. Overlaying data onto this phylogeny\n",
    "3. Inferring the phylogeny with potentially many algorithms\n",
    "4. Assessing performance"
   ]
  },
  {
   "cell_type": "markdown",
   "metadata": {},
   "source": [
    "Setting up necessary variables\n",
    "- `algorithm` = The algorithms we will compare\n",
    "- `bd_sim` = Simulates a birth-death process for creating a ground truth tree\n",
    "- `lt_sim` = Uses a Cas9-based lineage tracing data simulator for overlaying data"
   ]
  },
  {
   "cell_type": "code",
   "execution_count": 2,
   "metadata": {},
   "outputs": [],
   "source": [
    "algorithms = {\n",
    "    \"Vanilla Greedy\": cas.solver.VanillaGreedySolver(),\n",
    "    \"Impute Bagging + Felsenstein\": cas.solver.VanillaGreedySolver(),\n",
    "    # can add more algorithms here\n",
    "}\n",
    "\n",
    "bd_sim = cas.sim.BirthDeathFitnessSimulator(\n",
    "    birth_waiting_distribution=lambda scale: np.random.exponential(scale),\n",
    "    initial_birth_scale=0.5,\n",
    "    death_waiting_distribution=lambda: np.random.exponential(1.5),\n",
    "    mutation_distribution=lambda: 1 if np.random.uniform() < 0.5 else 0,\n",
    "    fitness_distribution=lambda: np.random.normal(0, 0.5),\n",
    "    fitness_base=1.3,\n",
    "    num_extant=400,\n",
    "    random_seed=17,\n",
    ")\n",
    "\n",
    "np.random.seed(seed=None)\n",
    "lt_sim = cas.sim.Cas9LineageTracingDataSimulator(\n",
    "    number_of_cassettes=40,\n",
    "    size_of_cassette=1,\n",
    "    mutation_rate=0.1,\n",
    "    state_generating_distribution=lambda: np.random.exponential(1e-5),\n",
    "    number_of_states=50,\n",
    "    state_priors=None,\n",
    "    heritable_silencing_rate=9e-4,\n",
    "    stochastic_silencing_rate=0.1,\n",
    "    heritable_missing_data_state=-1,\n",
    "    stochastic_missing_data_state=-1,\n",
    ")"
   ]
  },
  {
   "cell_type": "code",
   "execution_count": 3,
   "metadata": {},
   "outputs": [
    {
     "data": {
      "application/vnd.jupyter.widget-view+json": {
       "model_id": "06e26f3a14b6478b803bb76e73daff65",
       "version_major": 2,
       "version_minor": 0
      },
      "text/plain": [
       "  0%|          | 0/10 [00:00<?, ?it/s]"
      ]
     },
     "metadata": {},
     "output_type": "display_data"
    },
    {
     "data": {
      "application/vnd.jupyter.widget-view+json": {
       "model_id": "a0cf7c0009b14a8497b08b7b824548db",
       "version_major": 2,
       "version_minor": 0
      },
      "text/plain": [
       "  0%|          | 0/2 [00:00<?, ?it/s]"
      ]
     },
     "metadata": {},
     "output_type": "display_data"
    },
    {
     "data": {
      "application/vnd.jupyter.widget-view+json": {
       "model_id": "44741cd2789545caa840c7249a1b49cb",
       "version_major": 2,
       "version_minor": 0
      },
      "text/plain": [
       "  0%|          | 0/2 [00:00<?, ?it/s]"
      ]
     },
     "metadata": {},
     "output_type": "display_data"
    },
    {
     "data": {
      "application/vnd.jupyter.widget-view+json": {
       "model_id": "ea3ace5b36b044e8a10a1239a326c6e8",
       "version_major": 2,
       "version_minor": 0
      },
      "text/plain": [
       "  0%|          | 0/2 [00:00<?, ?it/s]"
      ]
     },
     "metadata": {},
     "output_type": "display_data"
    },
    {
     "data": {
      "application/vnd.jupyter.widget-view+json": {
       "model_id": "094add575f2948709c52b22c1922fcdd",
       "version_major": 2,
       "version_minor": 0
      },
      "text/plain": [
       "  0%|          | 0/2 [00:00<?, ?it/s]"
      ]
     },
     "metadata": {},
     "output_type": "display_data"
    },
    {
     "data": {
      "application/vnd.jupyter.widget-view+json": {
       "model_id": "a635e4ab1fd54550bdd8f6a5c3786572",
       "version_major": 2,
       "version_minor": 0
      },
      "text/plain": [
       "  0%|          | 0/2 [00:00<?, ?it/s]"
      ]
     },
     "metadata": {},
     "output_type": "display_data"
    },
    {
     "data": {
      "application/vnd.jupyter.widget-view+json": {
       "model_id": "edae340ed11946c6aa11ef4a87e7051f",
       "version_major": 2,
       "version_minor": 0
      },
      "text/plain": [
       "  0%|          | 0/2 [00:00<?, ?it/s]"
      ]
     },
     "metadata": {},
     "output_type": "display_data"
    },
    {
     "data": {
      "application/vnd.jupyter.widget-view+json": {
       "model_id": "009a77508fba4644a016c4e7d1f431ce",
       "version_major": 2,
       "version_minor": 0
      },
      "text/plain": [
       "  0%|          | 0/2 [00:00<?, ?it/s]"
      ]
     },
     "metadata": {},
     "output_type": "display_data"
    },
    {
     "data": {
      "application/vnd.jupyter.widget-view+json": {
       "model_id": "3ee4f21eeb094a5690724b685409192b",
       "version_major": 2,
       "version_minor": 0
      },
      "text/plain": [
       "  0%|          | 0/2 [00:00<?, ?it/s]"
      ]
     },
     "metadata": {},
     "output_type": "display_data"
    },
    {
     "data": {
      "application/vnd.jupyter.widget-view+json": {
       "model_id": "abddf0d60a834b36b8cd6282412200f3",
       "version_major": 2,
       "version_minor": 0
      },
      "text/plain": [
       "  0%|          | 0/2 [00:00<?, ?it/s]"
      ]
     },
     "metadata": {},
     "output_type": "display_data"
    },
    {
     "data": {
      "application/vnd.jupyter.widget-view+json": {
       "model_id": "b663f8ce139444d7893382aecc8abeda",
       "version_major": 2,
       "version_minor": 0
      },
      "text/plain": [
       "  0%|          | 0/2 [00:00<?, ?it/s]"
      ]
     },
     "metadata": {},
     "output_type": "display_data"
    }
   ],
   "source": [
    "# Main Benchmark Code\n",
    "\n",
    "\n",
    "class Node:\n",
    "    \"\"\"Initializes a node with given parameters.\n",
    "\n",
    "    Arguments:\n",
    "        name: name of node (only relevant for leaves)\n",
    "        left: left child (Node)\n",
    "        right: right child (Node)\n",
    "        branch_length: length of branch that leads to this node (float)\n",
    "        branch_id: id of branch that leads to this node (int)\n",
    "        probs: probability of observed bases beneath this node\n",
    "                [list of 4 probs for 'ACGT'] (initialized to None)\n",
    "    \"\"\"\n",
    "\n",
    "    def __init__(self, name, left, right, branch_length, branch_id=None):\n",
    "        self.name = name\n",
    "        self.left = left\n",
    "        self.right = right\n",
    "        self.branch_length = branch_length\n",
    "        self.branch_id = branch_id\n",
    "        self.probs = [None for _ in range(52)]\n",
    "\n",
    "\n",
    "def jcm(b, a, t, u=1.0):\n",
    "    if a == b:\n",
    "        return (1 / 51) * (1 + 50 * np.exp((-51 / 50) * u * t))\n",
    "    else:  # when a =/= b\n",
    "        return (1 / 51) * (1 - np.exp((-51 / 50) * u * t))\n",
    "\n",
    "\n",
    "def parse_newick(newick):\n",
    "    def add_node(name, children):\n",
    "        # If a ':' is found, there is a name and branch length\n",
    "        if \":\" in name:\n",
    "            name, branch_length = name.split(\":\")\n",
    "            branch_length = float(branch_length)\n",
    "        # If no ':' is found (ex. root), set branch_length to zero\n",
    "        else:\n",
    "            branch_length = 0\n",
    "\n",
    "        left = children[0] if children else None\n",
    "        right = children[1] if len(children) > 1 else None\n",
    "        return Node(name, left, right, branch_length)\n",
    "\n",
    "    stack = []\n",
    "    current_node = (\"\", [])\n",
    "    for char in newick:\n",
    "        if char == \"(\":\n",
    "            stack.append(current_node)\n",
    "            current_node = (\"\", [])\n",
    "        elif char == \",\":\n",
    "            parent = stack[-1]\n",
    "            node = add_node(*current_node)\n",
    "            parent[1].append(node)\n",
    "            current_node = (\"\", [])\n",
    "        elif char == \")\":\n",
    "            parent = stack.pop()\n",
    "            node = add_node(*current_node)\n",
    "            parent[1].append(node)\n",
    "            current_node = parent\n",
    "        elif char == \";\":\n",
    "            break\n",
    "        else:\n",
    "            current_node = (current_node[0] + char, current_node[1])\n",
    "\n",
    "    return add_node(*current_node)\n",
    "\n",
    "\n",
    "def postorder_traversal(node):\n",
    "    result = []\n",
    "    branch_lengths = []\n",
    "\n",
    "    def traverse(node, result, branch_lengths):\n",
    "        if node.left:\n",
    "            traverse(node.left, result, branch_lengths)\n",
    "        if node.right:\n",
    "            traverse(node.right, result, branch_lengths)\n",
    "        node.branch_id = len(result)\n",
    "        result.append(node)\n",
    "        branch_lengths.append(node.branch_length)\n",
    "\n",
    "    traverse(node, result, branch_lengths)\n",
    "    return result, branch_lengths\n",
    "\n",
    "\n",
    "def initialize_topology(newick_string):\n",
    "    tree = parse_newick(newick_string)\n",
    "    branch_lengths = []\n",
    "    ordering, branch_lengths = postorder_traversal(tree)\n",
    "    bases = list(range(-1, 51))\n",
    "    branch_probs = [\n",
    "        np.zeros((len(bases), len(bases)), dtype=float)\n",
    "        for _ in range(len(branch_lengths) + 1)\n",
    "    ]\n",
    "    lengths = np.append(branch_lengths, 0)  # to get the zero length branch\n",
    "    for branch_id, t in enumerate(lengths):\n",
    "        for ancestor_base, a in enumerate(bases):\n",
    "            for descendant_base, b in enumerate(bases):\n",
    "                branch_probs[branch_id][ancestor_base][descendant_base] = jcm(b, a, t)\n",
    "    return ordering, branch_probs\n",
    "\n",
    "\n",
    "def sumLogProbs(a, b):\n",
    "    if a == float(\"-inf\") and b == float(\"-inf\"):\n",
    "        return float(\"-inf\")\n",
    "    if a > b:\n",
    "        return a + np.log1p(math.exp(b - a))\n",
    "    else:\n",
    "        return b + np.log1p(math.exp(a - b))\n",
    "\n",
    "\n",
    "def likelihood(data, seqlen, ordering, bp):\n",
    "    bases = list(range(-1, 51))\n",
    "    pi = 1 / 51\n",
    "    total_log_prob = float(\"-inf\")\n",
    "\n",
    "    z = 0\n",
    "    for char in range(seqlen):\n",
    "        # print(z)\n",
    "        z += 1\n",
    "        # Initialization\n",
    "        for node in ordering:\n",
    "            if node.left is None and node.right is None:\n",
    "                for i in bases:  # range(len(bases)):\n",
    "                    if bases[i] == data[node.name][char]:\n",
    "                        node.probs[i] = 0.0\n",
    "                    else:\n",
    "                        node.probs[i] = float(\"-inf\")\n",
    "\n",
    "        # Recursion\n",
    "        for node in ordering:\n",
    "            if node.left is not None and node.right is not None:\n",
    "                for parent_ind in bases:  # range(len(bases)):\n",
    "                    prob_l = float(\"-inf\")\n",
    "                    prob_r = float(\"-inf\")\n",
    "                    for child_ind in bases:  # range(len(bases)):\n",
    "                        # print(prob_l)\n",
    "                        prob_l = sumLogProbs(\n",
    "                            prob_l,\n",
    "                            node.left.probs[child_ind]\n",
    "                            + np.log(bp[node.left.branch_id][parent_ind][child_ind]),\n",
    "                        )\n",
    "                        # print(prob_r)\n",
    "                        prob_r = sumLogProbs(\n",
    "                            prob_r,\n",
    "                            node.right.probs[child_ind]\n",
    "                            + np.log(bp[node.right.branch_id][parent_ind][child_ind]),\n",
    "                        )\n",
    "                        # print(node.left.probs[child_ind]\n",
    "                        #     + np.log(bp[node.left.branch_id][parent_ind][child_ind]))\n",
    "                        # print(node.right.probs[child_ind]\n",
    "                        #     + np.log(bp[node.right.branch_id][parent_ind][child_ind]))\n",
    "                    node.probs[parent_ind] = prob_l + prob_r\n",
    "                    # print(node.probs)\n",
    "        # Termination\n",
    "        prob_sum = float(\"-inf\")\n",
    "        for i in bases:  # range(len(bases)):\n",
    "            prob_sum = sumLogProbs(prob_sum, np.log(pi) + ordering[-1].probs[i])\n",
    "        total_log_prob = sumLogProbs(total_log_prob, prob_sum)\n",
    "\n",
    "    return total_log_prob\n",
    "\n",
    "\n",
    "def generate_character_matrix(character_matrix, impute):\n",
    "    character_matrix_copy = character_matrix.copy(deep=True)\n",
    "\n",
    "    num_row, num_col = character_matrix_copy.shape\n",
    "\n",
    "    for c in range(num_col):\n",
    "        cutsite_mut_distr = list(\n",
    "            filter(lambda x: x != -1, character_matrix[c].tolist())\n",
    "        )\n",
    "        for r in range(num_row):\n",
    "            if random.random() <= impute:\n",
    "                if character_matrix_copy[c][r] == -1:\n",
    "                    character_matrix_copy[c][r] = random.choice(cutsite_mut_distr)\n",
    "\n",
    "    return character_matrix_copy\n",
    "\n",
    "\n",
    "iterations = 10\n",
    "algorithm_to_performance_triplets = defaultdict(list)\n",
    "algorithm_to_performance_rf = defaultdict(list)\n",
    "\n",
    "for _ in tqdm(range(iterations)):\n",
    "    ground_truth_tree = bd_sim.simulate_tree()\n",
    "\n",
    "    np.random.seed(None)\n",
    "    lt_sim.overlay_data(ground_truth_tree)\n",
    "\n",
    "    for algorithm_name in tqdm(algorithms.keys()):\n",
    "        algorithm = algorithms[algorithm_name]\n",
    "        if algorithm_name == \"Vanilla Greedy\":\n",
    "            cm = ground_truth_tree.character_matrix\n",
    "\n",
    "            reconstructed_tree = cas.data.CassiopeiaTree(\n",
    "                character_matrix=cm,\n",
    "                missing_state_indicator=-1,\n",
    "            )\n",
    "\n",
    "            algorithm.solve(reconstructed_tree)\n",
    "\n",
    "            # ground_truth_tree.collapse_mutationless_edges(infer_ancestral_characters = False)\n",
    "            reconstructed_tree.collapse_mutationless_edges(\n",
    "                infer_ancestral_characters=True\n",
    "            )\n",
    "\n",
    "            rf, rf_max = cas.critique.compare.robinson_foulds(\n",
    "                ground_truth_tree, reconstructed_tree\n",
    "            )\n",
    "\n",
    "            triplets = cas.critique.compare.triplets_correct(\n",
    "                ground_truth_tree, reconstructed_tree, number_of_trials=500\n",
    "            )\n",
    "            algorithm_to_performance_triplets[algorithm_name].append(\n",
    "                np.mean(list(triplets[0].values()))\n",
    "            )\n",
    "\n",
    "            algorithm_to_performance_rf[algorithm_name].append(rf / rf_max)\n",
    "\n",
    "        elif algorithm_name == \"Impute Bagging + Felsenstein\":\n",
    "            cm1 = generate_character_matrix(cm, 0.5)\n",
    "            cm2 = generate_character_matrix(cm, 0.5)\n",
    "            cm3 = generate_character_matrix(cm, 0.5)\n",
    "\n",
    "            highest_likelihood = float(\"-inf\")\n",
    "            highest_ind = -1\n",
    "            reconstructed_tree1 = cas.data.CassiopeiaTree(\n",
    "                character_matrix=cm1,\n",
    "                missing_state_indicator=-1,\n",
    "            )\n",
    "            reconstructed_tree2 = cas.data.CassiopeiaTree(\n",
    "                character_matrix=cm2,\n",
    "                missing_state_indicator=-1,\n",
    "            )\n",
    "            reconstructed_tree3 = cas.data.CassiopeiaTree(\n",
    "                character_matrix=cm3,\n",
    "                missing_state_indicator=-1,\n",
    "            )\n",
    "            pos_trees = [reconstructed_tree1, reconstructed_tree2, reconstructed_tree3]\n",
    "\n",
    "            for ind, tree in enumerate(pos_trees):\n",
    "                algorithm.solve(tree)\n",
    "                data = {\n",
    "                    k: v.tolist()\n",
    "                    for v, k in zip(\n",
    "                        tree.character_matrix.values,\n",
    "                        tree.character_matrix.index,\n",
    "                    )\n",
    "                }\n",
    "                seqlen = len(tree.character_matrix.values[0])\n",
    "                orderings, probs = initialize_topology(\n",
    "                    tree.get_newick(record_branch_lengths=True)\n",
    "                )\n",
    "                pos_likelihood = likelihood(data, seqlen, orderings, probs)\n",
    "                if highest_likelihood <= pos_likelihood:\n",
    "                    highest_likelihood = pos_likelihood\n",
    "                    highest_ind = ind\n",
    "\n",
    "            reconstructed_tree = pos_trees[highest_ind]\n",
    "\n",
    "            # ground_truth_tree.collapse_mutationless_edges(infer_ancestral_characters = False)\n",
    "            reconstructed_tree.collapse_mutationless_edges(\n",
    "                infer_ancestral_characters=True\n",
    "            )\n",
    "\n",
    "            rf, rf_max = cas.critique.compare.robinson_foulds(\n",
    "                ground_truth_tree, reconstructed_tree\n",
    "            )\n",
    "\n",
    "            triplets = cas.critique.compare.triplets_correct(\n",
    "                ground_truth_tree, reconstructed_tree, number_of_trials=500\n",
    "            )\n",
    "            algorithm_to_performance_triplets[algorithm_name].append(\n",
    "                np.mean(list(triplets[0].values()))\n",
    "            )\n",
    "\n",
    "            algorithm_to_performance_rf[algorithm_name].append(rf / rf_max)"
   ]
  },
  {
   "cell_type": "markdown",
   "metadata": {},
   "source": [
    "**Visualising Results**\n",
    "\n",
    "We will visualize the results by looking at two metrics offered by the Cassiopeia `critique` library:\n",
    "\n",
    "- Triplets Correct Measure\n",
    "- Robinson-Foulds Distance"
   ]
  },
  {
   "cell_type": "code",
   "execution_count": 4,
   "metadata": {},
   "outputs": [
    {
     "data": {
      "image/png": "[encoded data removed]",
      "text/plain": [
       "<Figure size 640x480 with 1 Axes>"
      ]
     },
     "metadata": {},
     "output_type": "display_data"
    },
    {
     "name": "stdout",
     "output_type": "stream",
     "text": [
      "                              count      mean       std       min       25%  \\\n",
      "Algorithm                                                                     \n",
      "Impute Bagging + Felsenstein   10.0  0.453178  0.031112  0.406333  0.427278   \n",
      "Vanilla Greedy                 10.0  0.490544  0.042240  0.415111  0.469000   \n",
      "\n",
      "                                   50%       75%       max  \n",
      "Algorithm                                                   \n",
      "Impute Bagging + Felsenstein  0.459889  0.471417  0.506556  \n",
      "Vanilla Greedy                0.493333  0.509694  0.573778  \n"
     ]
    }
   ],
   "source": [
    "# Triplets Correct Measure\n",
    "algorithm_to_performance_triplets_df = pd.DataFrame(columns=[\"Algorithm\", \"Triplets\"])\n",
    "for algorithm in algorithm_to_performance_triplets:\n",
    "    entries = algorithm_to_performance_triplets[algorithm]\n",
    "    new_df = pd.DataFrame([algorithm] * len(entries), columns=[\"Algorithm\"])\n",
    "    new_df[\"Triplets\"] = entries\n",
    "\n",
    "    algorithm_to_performance_triplets_df = pd.concat([algorithm_to_performance_triplets_df, new_df])\n",
    "\n",
    "sns.boxplot(data=algorithm_to_performance_triplets_df, x=\"Algorithm\", y=\"Triplets\")\n",
    "plt.show()\n",
    "\n",
    "triplets_stats = algorithm_to_performance_triplets_df.groupby(\"Algorithm\")[\"Triplets\"].describe()\n",
    "print(triplets_stats)"
   ]
  },
  {
   "cell_type": "code",
   "execution_count": 5,
   "metadata": {},
   "outputs": [
    {
     "data": {
      "image/png": "[encoded data removed]",
      "text/plain": [
       "<Figure size 640x480 with 1 Axes>"
      ]
     },
     "metadata": {},
     "output_type": "display_data"
    },
    {
     "name": "stdout",
     "output_type": "stream",
     "text": [
      "                              count      mean       std       min       25%  \\\n",
      "Algorithm                                                                     \n",
      "Impute Bagging + Felsenstein   10.0  0.864752  0.031181  0.804173  0.842710   \n",
      "Vanilla Greedy                 10.0  0.724619  0.044527  0.671743  0.693142   \n",
      "\n",
      "                                   50%       75%       max  \n",
      "Algorithm                                                   \n",
      "Impute Bagging + Felsenstein  0.875139  0.883523  0.907550  \n",
      "Vanilla Greedy                0.720176  0.731454  0.805654  \n"
     ]
    }
   ],
   "source": [
    "# Robinson-Foulds Distance\n",
    "algorithm_to_performance_rf_df = pd.DataFrame(columns=[\"Algorithm\", \"RF\"])\n",
    "for algorithm in algorithm_to_performance_rf:\n",
    "    entries = algorithm_to_performance_rf[algorithm]\n",
    "    new_df = pd.DataFrame([algorithm] * len(entries), columns=[\"Algorithm\"])\n",
    "    new_df[\"RF\"] = entries\n",
    "\n",
    "    algorithm_to_performance_rf_df = pd.concat([algorithm_to_performance_rf_df, new_df])\n",
    "\n",
    "sns.boxplot(data=algorithm_to_performance_rf_df, x=\"Algorithm\", y=\"RF\")\n",
    "plt.show()\n",
    "\n",
    "rf_stats = algorithm_to_performance_rf_df.groupby(\"Algorithm\")[\"RF\"].describe()\n",
    "print(rf_stats)"
   ]
  }
 ],
 "metadata": {
  "kernelspec": {
   "display_name": "env",
   "language": "python",
   "name": "python3"
  },
  "language_info": {
   "codemirror_mode": {
    "name": "ipython",
    "version": 3
   },
   "file_extension": ".py",
   "mimetype": "text/x-python",
   "name": "python",
   "nbconvert_exporter": "python",
   "pygments_lexer": "ipython3",
   "version": "3.9.5"
  }
 },
 "nbformat": 4,
 "nbformat_minor": 2
}
