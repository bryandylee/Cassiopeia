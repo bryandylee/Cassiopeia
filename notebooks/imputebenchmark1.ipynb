{
 "cells": [
  {
   "cell_type": "markdown",
   "metadata": {},
   "source": [
    "# Greedy Algorithm Benchmarking (For Uniform Bootstrapping)\n",
    "\n",
    "This notebook serves to benchmark VanillaGreedySolver with our missing data imputation function that utilize uniform bootstrapping.\n",
    "\n",
    "You can install Cassiopeia by following the guide [here](https://cassiopeia-lineage.readthedocs.io/en/latest/installation.html).\n",
    "\n",
    "All of our documentation is hosted [here](https://cassiopeia-lineage.readthedocs.io/en/latest/)."
   ]
  },
  {
   "cell_type": "code",
   "execution_count": 1,
   "metadata": {},
   "outputs": [],
   "source": [
    "from collections import defaultdict\n",
    "import matplotlib.pyplot as plt\n",
    "import numpy as np\n",
    "import pandas as pd\n",
    "import seaborn as sns\n",
    "from tqdm.auto import tqdm\n",
    "import random\n",
    "\n",
    "import cassiopeia as cas"
   ]
  },
  {
   "cell_type": "markdown",
   "metadata": {},
   "source": [
    "## Building benchmarking pipeline\n",
    "\n",
    "The benchmarking pipeline consists of:\n",
    "\n",
    "1. Simulating a ground truth phylogeny\n",
    "2. Overlaying data onto this phylogeny\n",
    "3. Inferring the phylogeny with potentially many algorithms\n",
    "4. Assessing performance"
   ]
  },
  {
   "cell_type": "markdown",
   "metadata": {},
   "source": [
    "Setting up necessary variables\n",
    "- `algorithm` = The algorithms we will compare\n",
    "- `bd_sim` = Simulates a birth-death process for creating a ground truth tree\n",
    "- `lt_sim` = Uses a Cas9-based lineage tracing data simulator for overlaying data"
   ]
  },
  {
   "cell_type": "code",
   "execution_count": 2,
   "metadata": {},
   "outputs": [],
   "source": [
    "algorithms = {\n",
    "    \"Vanilla Greedy\": cas.solver.VanillaGreedySolver(),\n",
    "    \"p=1\": cas.solver.VanillaGreedySolver(),\n",
    "    \"p=0.75\": cas.solver.VanillaGreedySolver(),\n",
    "    \"p=0.5\": cas.solver.VanillaGreedySolver(),\n",
    "    \"p=0.25\": cas.solver.VanillaGreedySolver(),\n",
    "    \"p=0\": cas.solver.VanillaGreedySolver(),\n",
    "    # can add more algorithms here\n",
    "}\n",
    "\n",
    "bd_sim = cas.sim.BirthDeathFitnessSimulator(\n",
    "    birth_waiting_distribution=lambda scale: np.random.exponential(scale),\n",
    "    initial_birth_scale=0.5,\n",
    "    death_waiting_distribution=lambda: np.random.exponential(1.5),\n",
    "    mutation_distribution=lambda: 1 if np.random.uniform() < 0.5 else 0,\n",
    "    fitness_distribution=lambda: np.random.normal(0, 0.5),\n",
    "    fitness_base=1.3,\n",
    "    num_extant=400,\n",
    "    random_seed=17,\n",
    ")\n",
    "\n",
    "np.random.seed(seed=None)\n",
    "lt_sim = cas.sim.Cas9LineageTracingDataSimulator(\n",
    "    number_of_cassettes=40,\n",
    "    size_of_cassette=1,\n",
    "    mutation_rate=0.1,\n",
    "    state_generating_distribution=lambda: np.random.exponential(1e-5),\n",
    "    number_of_states=50,\n",
    "    state_priors=None,\n",
    "    heritable_silencing_rate=9e-4,\n",
    "    stochastic_silencing_rate=0.1,\n",
    "    heritable_missing_data_state=-1,\n",
    "    stochastic_missing_data_state=-1,\n",
    ")"
   ]
  },
  {
   "cell_type": "code",
   "execution_count": 3,
   "metadata": {},
   "outputs": [
    {
     "data": {
      "application/vnd.jupyter.widget-view+json": {
       "model_id": "12a1dd2bdf304c97885e520b2709a846",
       "version_major": 2,
       "version_minor": 0
      },
      "text/plain": [
       "  0%|          | 0/10 [00:00<?, ?it/s]"
      ]
     },
     "metadata": {},
     "output_type": "display_data"
    },
    {
     "data": {
      "application/vnd.jupyter.widget-view+json": {
       "model_id": "a342709ed0974f84ba4111c82da2eb28",
       "version_major": 2,
       "version_minor": 0
      },
      "text/plain": [
       "  0%|          | 0/6 [00:00<?, ?it/s]"
      ]
     },
     "metadata": {},
     "output_type": "display_data"
    },
    {
     "data": {
      "application/vnd.jupyter.widget-view+json": {
       "model_id": "1d1a01d4a4ac4b03909ceeaa305726e9",
       "version_major": 2,
       "version_minor": 0
      },
      "text/plain": [
       "  0%|          | 0/6 [00:00<?, ?it/s]"
      ]
     },
     "metadata": {},
     "output_type": "display_data"
    },
    {
     "data": {
      "application/vnd.jupyter.widget-view+json": {
       "model_id": "17502690dfbb47bcb9612132f2931188",
       "version_major": 2,
       "version_minor": 0
      },
      "text/plain": [
       "  0%|          | 0/6 [00:00<?, ?it/s]"
      ]
     },
     "metadata": {},
     "output_type": "display_data"
    },
    {
     "data": {
      "application/vnd.jupyter.widget-view+json": {
       "model_id": "3e1794ee07fa4128ac77b9c87bcc36f9",
       "version_major": 2,
       "version_minor": 0
      },
      "text/plain": [
       "  0%|          | 0/6 [00:00<?, ?it/s]"
      ]
     },
     "metadata": {},
     "output_type": "display_data"
    },
    {
     "data": {
      "application/vnd.jupyter.widget-view+json": {
       "model_id": "af4b619f6695434ea54884e91139ed68",
       "version_major": 2,
       "version_minor": 0
      },
      "text/plain": [
       "  0%|          | 0/6 [00:00<?, ?it/s]"
      ]
     },
     "metadata": {},
     "output_type": "display_data"
    },
    {
     "data": {
      "application/vnd.jupyter.widget-view+json": {
       "model_id": "5382228b69be40368c3ab754b44d37f9",
       "version_major": 2,
       "version_minor": 0
      },
      "text/plain": [
       "  0%|          | 0/6 [00:00<?, ?it/s]"
      ]
     },
     "metadata": {},
     "output_type": "display_data"
    },
    {
     "data": {
      "application/vnd.jupyter.widget-view+json": {
       "model_id": "69f24c82400c43cea65c6c06d0e99515",
       "version_major": 2,
       "version_minor": 0
      },
      "text/plain": [
       "  0%|          | 0/6 [00:00<?, ?it/s]"
      ]
     },
     "metadata": {},
     "output_type": "display_data"
    },
    {
     "data": {
      "application/vnd.jupyter.widget-view+json": {
       "model_id": "bd7548c4efd7454885167c8197efb5c8",
       "version_major": 2,
       "version_minor": 0
      },
      "text/plain": [
       "  0%|          | 0/6 [00:00<?, ?it/s]"
      ]
     },
     "metadata": {},
     "output_type": "display_data"
    },
    {
     "data": {
      "application/vnd.jupyter.widget-view+json": {
       "model_id": "329b559703c74effbb5573c6ca5ba227",
       "version_major": 2,
       "version_minor": 0
      },
      "text/plain": [
       "  0%|          | 0/6 [00:00<?, ?it/s]"
      ]
     },
     "metadata": {},
     "output_type": "display_data"
    },
    {
     "data": {
      "application/vnd.jupyter.widget-view+json": {
       "model_id": "23e9fe8d813240e18266c2f71a80f7a0",
       "version_major": 2,
       "version_minor": 0
      },
      "text/plain": [
       "  0%|          | 0/6 [00:00<?, ?it/s]"
      ]
     },
     "metadata": {},
     "output_type": "display_data"
    }
   ],
   "source": [
    "# Main Benchmark Code\n",
    "\n",
    "\n",
    "def generate_character_matrix(character_matrix, impute):\n",
    "    character_matrix_copy = character_matrix.copy(deep=True)\n",
    "\n",
    "    num_row, num_col = character_matrix_copy.shape\n",
    "\n",
    "    for c in range(num_col):\n",
    "        cutsite_mut_distr = list(\n",
    "            filter(lambda x: x != -1, character_matrix[c].tolist())\n",
    "        )\n",
    "        for r in range(num_row):\n",
    "            if random.random() <= impute:\n",
    "                if character_matrix_copy[c][r] == -1:\n",
    "                    character_matrix_copy[c][r] = random.choice(cutsite_mut_distr)\n",
    "\n",
    "    return character_matrix_copy\n",
    "\n",
    "iterations = 10\n",
    "algorithm_to_performance_triplets = defaultdict(list)\n",
    "algorithm_to_performance_rf = defaultdict(list)\n",
    "\n",
    "for _ in tqdm(range(iterations)):\n",
    "    ground_truth_tree = bd_sim.simulate_tree()\n",
    "\n",
    "    np.random.seed(None)\n",
    "    lt_sim.overlay_data(ground_truth_tree)\n",
    "\n",
    "    for algorithm_name in tqdm(algorithms.keys()):\n",
    "        algorithm = algorithms[algorithm_name]\n",
    "        cm = ground_truth_tree.character_matrix\n",
    "        if algorithm_name == \"p=1\":\n",
    "            cm = generate_character_matrix(cm, 1)\n",
    "        if algorithm_name == \"p=0.75\":\n",
    "            cm = generate_character_matrix(cm, 0.75)\n",
    "        if algorithm_name == \"p=0.5\":\n",
    "            cm = generate_character_matrix(cm, 0.5)\n",
    "        if algorithm_name == \"p=0.25\":\n",
    "            cm = generate_character_matrix(cm, 0.25)\n",
    "        if algorithm_name == \"p=0\":\n",
    "            cm = generate_character_matrix(cm, 0)\n",
    "\n",
    "        reconstructed_tree = cas.data.CassiopeiaTree(\n",
    "            character_matrix=cm,\n",
    "            missing_state_indicator=-1,\n",
    "        )\n",
    "\n",
    "        algorithm.solve(reconstructed_tree)\n",
    "\n",
    "        # ground_truth_tree.collapse_mutationless_edges(infer_ancestral_characters = False)\n",
    "        reconstructed_tree.collapse_mutationless_edges(infer_ancestral_characters=True)\n",
    "\n",
    "        rf, rf_max = cas.critique.compare.robinson_foulds(\n",
    "            ground_truth_tree, reconstructed_tree\n",
    "        )\n",
    "\n",
    "        triplets = cas.critique.compare.triplets_correct(\n",
    "            ground_truth_tree, reconstructed_tree, number_of_trials=500\n",
    "        )\n",
    "        algorithm_to_performance_triplets[algorithm_name].append(\n",
    "            np.mean(list(triplets[0].values()))\n",
    "        )\n",
    "\n",
    "        algorithm_to_performance_rf[algorithm_name].append(rf / rf_max)"
   ]
  },
  {
   "cell_type": "markdown",
   "metadata": {},
   "source": [
    "**Visualising Results**\n",
    "\n",
    "We will visualize the results by looking at two metrics offered by the Cassiopeia `critique` library:\n",
    "\n",
    "- Triplets Correct Measure\n",
    "- Robinson-Foulds Distance"
   ]
  },
  {
   "cell_type": "code",
   "execution_count": 4,
   "metadata": {},
   "outputs": [
    {
     "data": {
      "image/png": "[encoded data removed]",
      "text/plain": [
       "<Figure size 640x480 with 1 Axes>"
      ]
     },
     "metadata": {},
     "output_type": "display_data"
    },
    {
     "name": "stdout",
     "output_type": "stream",
     "text": [
      "                count      mean       std       min       25%       50%  \\\n",
      "Algorithm                                                                 \n",
      "Vanilla Greedy   10.0  0.495711  0.087142  0.368556  0.433583  0.491944   \n",
      "p=0              10.0  0.495222  0.079823  0.381889  0.439917  0.491778   \n",
      "p=0.25           10.0  0.480300  0.051176  0.380778  0.470528  0.488222   \n",
      "p=0.5            10.0  0.457556  0.052527  0.368889  0.437778  0.458500   \n",
      "p=0.75           10.0  0.441256  0.057042  0.374889  0.392472  0.437111   \n",
      "p=1              10.0  0.424667  0.037016  0.381333  0.402361  0.412944   \n",
      "\n",
      "                     75%       max  \n",
      "Algorithm                           \n",
      "Vanilla Greedy  0.536806  0.648222  \n",
      "p=0             0.532139  0.633667  \n",
      "p=0.25          0.498472  0.570333  \n",
      "p=0.5           0.481389  0.543889  \n",
      "p=0.75          0.470361  0.541222  \n",
      "p=1             0.437083  0.496111  \n"
     ]
    }
   ],
   "source": [
    "# Triplets Correct Measure\n",
    "algorithm_to_performance_triplets_df = pd.DataFrame(columns=[\"Algorithm\", \"Triplets\"])\n",
    "for algorithm in algorithm_to_performance_triplets:\n",
    "    entries = algorithm_to_performance_triplets[algorithm]\n",
    "    new_df = pd.DataFrame([algorithm] * len(entries), columns=[\"Algorithm\"])\n",
    "    new_df[\"Triplets\"] = entries\n",
    "\n",
    "    algorithm_to_performance_triplets_df = pd.concat([algorithm_to_performance_triplets_df, new_df])\n",
    "\n",
    "sns.boxplot(data=algorithm_to_performance_triplets_df, x=\"Algorithm\", y=\"Triplets\")\n",
    "plt.show()\n",
    "\n",
    "triplets_stats = algorithm_to_performance_triplets_df.groupby(\"Algorithm\")[\"Triplets\"].describe()\n",
    "print(triplets_stats)"
   ]
  },
  {
   "cell_type": "code",
   "execution_count": 5,
   "metadata": {},
   "outputs": [
    {
     "data": {
      "image/png": "[encoded data removed]",
      "text/plain": [
       "<Figure size 640x480 with 1 Axes>"
      ]
     },
     "metadata": {},
     "output_type": "display_data"
    },
    {
     "name": "stdout",
     "output_type": "stream",
     "text": [
      "                count      mean       std       min       25%       50%  \\\n",
      "Algorithm                                                                 \n",
      "Vanilla Greedy   10.0  0.712683  0.062633  0.574751  0.714058  0.729202   \n",
      "p=0              10.0  0.712683  0.062633  0.574751  0.714058  0.729202   \n",
      "p=0.25           10.0  0.824197  0.036214  0.751987  0.802281  0.829103   \n",
      "p=0.5            10.0  0.867349  0.025141  0.820755  0.851378  0.870516   \n",
      "p=0.75           10.0  0.883143  0.026159  0.841322  0.863385  0.888847   \n",
      "p=1              10.0  0.909845  0.019864  0.873817  0.897364  0.908333   \n",
      "\n",
      "                     75%       max  \n",
      "Algorithm                           \n",
      "Vanilla Greedy  0.753094  0.774697  \n",
      "p=0             0.753094  0.774697  \n",
      "p=0.25          0.854795  0.862306  \n",
      "p=0.5           0.886646  0.901861  \n",
      "p=0.75          0.893416  0.920255  \n",
      "p=1             0.923915  0.944171  \n"
     ]
    }
   ],
   "source": [
    "# Robinson-Foulds Distance\n",
    "algorithm_to_performance_rf_df = pd.DataFrame(columns=[\"Algorithm\", \"RF\"])\n",
    "for algorithm in algorithm_to_performance_rf:\n",
    "    entries = algorithm_to_performance_rf[algorithm]\n",
    "    new_df = pd.DataFrame([algorithm] * len(entries), columns=[\"Algorithm\"])\n",
    "    new_df[\"RF\"] = entries\n",
    "\n",
    "    algorithm_to_performance_rf_df = pd.concat([algorithm_to_performance_rf_df, new_df])\n",
    "\n",
    "sns.boxplot(data=algorithm_to_performance_rf_df, x=\"Algorithm\", y=\"RF\")\n",
    "plt.show()\n",
    "\n",
    "rf_stats = algorithm_to_performance_rf_df.groupby(\"Algorithm\")[\"RF\"].describe()\n",
    "print(rf_stats)"
   ]
  }
 ],
 "metadata": {
  "kernelspec": {
   "display_name": "env",
   "language": "python",
   "name": "python3"
  },
  "language_info": {
   "codemirror_mode": {
    "name": "ipython",
    "version": 3
   },
   "file_extension": ".py",
   "mimetype": "text/x-python",
   "name": "python",
   "nbconvert_exporter": "python",
   "pygments_lexer": "ipython3",
   "version": "3.9.5"
  }
 },
 "nbformat": 4,
 "nbformat_minor": 2
}
